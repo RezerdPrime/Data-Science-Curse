{
  "cells": [
    {
      "cell_type": "markdown",
      "id": "194ee24b-50d1-4175-b37e-2e3f7e762269",
      "metadata": {
        "id": "194ee24b-50d1-4175-b37e-2e3f7e762269"
      },
      "source": [
        "# Чтение файлов в Python и командной строке. Практическая работа\n",
        "\n",
        "### Цели практической работы\n",
        "1. Научиться считывать информацию из файлов и совершать над ней операции с помощью кода на Python и командной строки.\n",
        "2. Закрепить навыки стыковки команд в конвейеры и установки внешних пакетов с помощью пакетного менеджера pip.\n",
        "\n",
        "### Что входит в практическую работу\n",
        "1. Работа с файлами в командной строке.\n",
        "2. Работа с файлами в Python 1.\n",
        "3. Работа с файлами в Python 2.\n",
        "4. Импортирование модулей.\n",
        "5. Установка внешних модулей через pip.\n",
        "6. Бонусное задание.\n",
        "\n",
        "### Что оценивается\n",
        "* Выполнены пять обязательных заданий, в каждом из них:\n",
        " * программа выполняет все описанные в задании действия;\n",
        " * результаты вычислений и применённых операций корректны;\n",
        " * стилизация кода соответствует рекомендациям [PEP 8](https://pythonworld.ru/osnovy/pep-8-rukovodstvo-po-napisaniyu-koda-na-python.html).\n",
        "\n",
        "\n",
        "### Как отправить работу на проверку\n",
        "Все задания собраны в один Jupyter Notebook. Выполните их, сохраните изменения при помощи опции Save and Checkpoint из вкладки меню File или кнопки Save and Checkpoint на панели инструментов. Отправьте итоговый файл Jupyter Notebook в формате IPYNB или ссылку на него через форму для сдачи практической работы.\n",
        "\n",
        "---"
      ]
    },
    {
      "cell_type": "markdown",
      "id": "a44f6df4",
      "metadata": {
        "id": "a44f6df4"
      },
      "source": [
        "## Задание 1. Работа с файлами в командной строке\n",
        "\n",
        "Ранее вы считали количество всех слов в рассказе А. П. Чехова «Анна на шее». Теперь необходимо определить, сколько раз каждое слово встречается в тексте.\n",
        "\n",
        "Вы уже знаете команды sort и uniq, умеете с их помощью считать количество уникальных строк в построчном файле. В результате у вас должен был получиться такой конвейер команд: `cat anna_words.txt | sort | uniq | wc -l`.\n",
        "\n",
        "Команда cat перенаправляет слова из файла в команду sort, которая сортирует слова и передаёт упорядоченный список в команду uniq. Последняя удаляет дубликаты и направляет список уникальных слов в команду wc −l, которая их считает.\n",
        "\n",
        "### Что нужно сделать\n",
        "\n",
        "Посчитайте количество уникальных слов и определите частоту встречаемости каждого слова. Информацию в виде `частота слово` сохраните в текстовый файл. Для этого:\n",
        "1. Измените конвейер команд так, чтобы он выводил слова и их частоту встречаемости на экран.\n",
        "2. Перенаправьте вывод конвейера в текстовый файл `words_freq.txt`.\n",
        "\n",
        "Если всё сделаете правильно, то получится текстовый файл `words_freq.txt`, в котором будут слова и их частота в виде:\n",
        "\n",
        "```\n",
        "...\n",
        "   1 по-прежнему\n",
        "   2 по-французски\n",
        "  40 аня\n",
        "   6 бал\n",
        "   1 бог\n",
        "   2 ваш\n",
        "   2 вид\n",
        "...\n",
        "```\n",
        "\n",
        "3. Скопируйте конвейер команд в ячейку, которая расположена непосредственно под этой.\n",
        "\n",
        "### Подсказки\n",
        "1. Ознакомьтесь с документацией команды uniq, обратите внимание на её ключ `-с`. Официальную документацию можно почитать прямо в командной строке: для этого выполните команду `man uniq`. Команда `man` (от англ. manual) выводит справку для команды, которая передаётся в man как аргумент. Если читать текст в терминале непривычно, то можете поискать информацию в интернете.\n",
        "\n",
        "2. Перенаправить вывод команды в bash можно с помощью символа `>`. О том, как это сделать, читайте в интернете. Например, в статье [**«Перенаправление ввода вывода Linux»**](https://losst.ru/perenapravlenie-vvoda-vyvoda-linux). "
      ]
    },
    {
      "cell_type": "markdown",
      "id": "ac416392",
      "metadata": {
        "id": "ac416392"
      },
      "source": [
        "### Вставьте конвейер команд, который у вас получился"
      ]
    },
    {
      "cell_type": "raw",
      "id": "35aa50c3-7d4e-4667-8157-da4ad8761cdd",
      "metadata": {
        "id": "35aa50c3-7d4e-4667-8157-da4ad8761cdd",
        "vscode": {
          "languageId": "raw"
        }
      },
      "source": [
        "##\n",
        "## cat anna_words.txt | sort | uniq -c | sort -nr > words_freq.txt\n",
        "##"
      ]
    },
    {
      "cell_type": "markdown",
      "id": "3952c1a6",
      "metadata": {
        "id": "3952c1a6"
      },
      "source": [
        "---\n",
        "\n",
        "## Задание 2. Работа с файлами в Python 1\n",
        "\n",
        "### Что нужно сделать\n",
        "В рассказе А. П. Чехова «Анна на шее» найдите десять слов, которые встречаются чаще всего. \n",
        "\n",
        "1. Напишите код на Python, который читает файл `word_freq.txt` по строкам, преобразует каждую из них в кортеж `(частота, слово)` и складывает полученные кортежи в список. \n",
        "2. Отсортируйте список по частотам, выведите на экран десять самых популярных слов и их частоты.\n",
        "\n",
        "### Подсказки\n",
        "1. Обратите внимание, что строки в файле содержат «лишние» символы: пробелы в начале и символ перевода строки в конце. Работать будет удобнее, если предварительно удалить их. Сделать это можно с помощью метода  `strip`. Ознакомьтесь с ним подробнее в [**официальной документации**](https://docs.python.org/3/library/stdtypes.html?highlight=strip#str.strip).\n",
        "\n",
        "2. Сейчас частота и слово — это одна строка, в которой они разделены пробелом. Их можно разделить с помощью метода [**`split`**](https://docs.python.org/3/library/stdtypes.html?highlight=split#str.split).\n",
        "\n",
        "3. Для сортировки в Python есть функция `sorted`. Она принимает на вход итерируемый объект, сравнивает его элементы между собой и возвращает итерируемый объект, который отсортирован. По умолчанию функция размещает элементы в порядке возрастания. Например, `sorted([2, 4, 1, 0])` вернёт `[0, 1, 2, 4]`. Подробнее про работу функции можно почитать в [**официальной документации**](https://docs.python.org/3/library/functions.html?highlight=sorted#sorted)"
      ]
    },
    {
      "cell_type": "code",
      "execution_count": null,
      "id": "c98e4d0b",
      "metadata": {
        "id": "c98e4d0b"
      },
      "outputs": [
        {
          "name": "stdout",
          "output_type": "stream",
          "text": [
            "2288\n",
            "1198\n",
            "[['9', 'видеть'], ['8', 'офицер'], ['8', 'музыка'], ['8', 'молодой'], ['8', 'казаться'], ['8', 'иметь'], ['8', 'время'], ['7', 'самый'], ['7', 'мальчик'], ['7', 'лицо']]\n"
          ]
        }
      ],
      "source": [
        "inp = open('anna_words.txt', 'r')\n",
        "outp = open('words_freq.txt', 'w')\n",
        "\n",
        "words = inp.read().splitlines()\n",
        "#print(words)\n",
        "print(len(words))\n",
        "\n",
        "uniq_words = list(set(words))\n",
        "print(len(uniq_words))\n",
        "\n",
        "for word in uniq_words:\n",
        "    outp.write(f'{words.count(word)} {word}\\n')\n",
        "\n",
        "inp.close()\n",
        "outp.close()\n",
        "\n",
        "\n",
        "with open('words_freq.txt', encoding=\"utf8\") as f:\n",
        "    lines = f.read().splitlines()\n",
        "    words_freq = sorted([(line.split()) for line in lines], reverse=True)\n",
        "    print(words_freq[0: 10])"
      ]
    },
    {
      "cell_type": "markdown",
      "id": "8639569c",
      "metadata": {
        "id": "8639569c"
      },
      "source": [
        "---\n",
        "\n",
        "## Задание 3. Работа с файлами в Python 2\n",
        "\n",
        "### Что нужно сделать\n",
        "Найдите букву, с которой чаще всего начинаются слова в рассказе А. П. Чехова «Анна на шее». \n",
        "1. Используйте файл с частотами слов `words_freq.txt`. \n",
        "2. Напишите код в Python, который выводит на экран самую популярную первую букву и количество слов на неё.\n",
        "\n",
        "\n",
        "### Подсказки\n",
        "Скорее всего, вы будете искать в словаре ключ с максимальным значением. Чтобы упростить работу, отсортируйте словарь. Сортировать словарь по значениям сложнее, чем список объектов, которые можно сравнивать непосредственно. Обратите внимание на параметр key функции [**sorted**](https://docs.python.org/3/library/functions.html?highlight=sorted#sorted)."
      ]
    },
    {
      "cell_type": "code",
      "execution_count": 27,
      "id": "6da9050c",
      "metadata": {
        "id": "6da9050c"
      },
      "outputs": [
        {
          "name": "stdout",
          "output_type": "stream",
          "text": [
            "самая популярная первая буква - \"п\" \n",
            "количество слов на неё - 318\n"
          ]
        }
      ],
      "source": [
        "letters = {}\n",
        "\n",
        "with open('words_freq.txt', encoding='utf-8') as f:\n",
        "    lines = f.read().splitlines()\n",
        "    words_freq = [(l.split()) for l in lines]\n",
        "    \n",
        "    for freq, word in words_freq:\n",
        "        try:\n",
        "            letters[word[0]] += int(freq)\n",
        "        except KeyError:\n",
        "            letters[word[0]] = int(freq)\n",
        "\n",
        "letters = sorted([(b, a) for a, b in letters.items()], reverse=True)\n",
        "\n",
        "freq, c = letters[0]\n",
        "\n",
        "print(f'самая популярная первая буква - \\\"{c}\\\" \\nколичество слов на неё - {freq}')"
      ]
    },
    {
      "cell_type": "markdown",
      "id": "b94a18e9",
      "metadata": {
        "id": "b94a18e9"
      },
      "source": [
        "---\n",
        "\n",
        "## Задание 4. Импортирование модулей\n",
        "\n",
        "###Что нужно сделать\n",
        "Напишите функцию `circ_sqrt`. Она должна принимать один параметр `r` типа `float` и возвращать квадратный корень из длины окружности радиуса `r`.\n",
        "\n",
        "### Подсказки\n",
        "- Используйте функции встроенного модуля math.\n",
        "- В работе функции учтите область определения квадратного корня."
      ]
    },
    {
      "cell_type": "code",
      "execution_count": 32,
      "id": "f9ddadb6",
      "metadata": {
        "id": "f9ddadb6"
      },
      "outputs": [
        {
          "data": {
            "text/plain": [
              "2.5066282746310002"
            ]
          },
          "execution_count": 32,
          "metadata": {},
          "output_type": "execute_result"
        }
      ],
      "source": [
        "from math import sqrt, pi\n",
        "\n",
        "\n",
        "def circ_sqrt(r: float):\n",
        "    if r < 0:\n",
        "        raise ValueError(\"Атата, корень из отрицательного числа!\")\n",
        "    \n",
        "    return sqrt(2 * pi * r)\n",
        "    \n",
        "    \n",
        "circ_sqrt(1)"
      ]
    },
    {
      "cell_type": "markdown",
      "id": "73df457b",
      "metadata": {
        "id": "73df457b"
      },
      "source": [
        "---\n",
        "\n",
        "## Задание 5. Установка внешних модулей через pip\n",
        "\n",
        "### Что нужно сделать\n",
        "\n",
        "Установите пакеты из PyPi с помощью пакетного менеджера pip и используйте их в коде. \n",
        "1. Установите пакет `cowsay`.\n",
        "2. Установите в систему пакет `wikipedia` — Python API для очень популярной онлайн-энциклопедии.\n",
        "3. Напишите функцию `random_article`, которая выводит на экран очень умную корову. Корова должна «рассказывать» краткое содержание случайной статьи из «Википедии» на английском языке.\n",
        "\n",
        "\n",
        "### Подсказки\n",
        "\n",
        "Вам понадобятся следующие функции пакета `wikipedia`:\n",
        "\n",
        "* [**wikipedia.random**](https://wikipedia.readthedocs.io/en/latest/code.html#wikipedia.random)\n",
        "* [**wikipedia.summary**](https://wikipedia.readthedocs.io/en/latest/code.html#wikipedia.summary)"
      ]
    },
    {
      "cell_type": "code",
      "execution_count": 3,
      "id": "8239efcc",
      "metadata": {},
      "outputs": [
        {
          "name": "stdout",
          "output_type": "stream",
          "text": [
            "  _________________________________________________\n",
            " /                                                 \\\n",
            "| James Brocas (1754 – September 1780) was an Irish |\n",
            "|  portrait painter.                                |\n",
            " \\                                                 /\n",
            "  =================================================\n",
            "                                                 \\\n",
            "                                                  \\\n",
            "                                                    ^__^\n",
            "                                                    (oo)\\_______\n",
            "                                                    (__)\\       )\\/\\\n",
            "                                                        ||----w |\n",
            "                                                        ||     ||\n"
          ]
        }
      ],
      "source": [
        "from wikipedia import random, summary\n",
        "from cowsay import cow\n",
        "\n",
        "cow(summary(random()))"
      ]
    },
    {
      "cell_type": "markdown",
      "id": "af263b7d",
      "metadata": {
        "id": "af263b7d"
      },
      "source": [
        "---\n",
        "\n",
        "## Задание 6. Бонусное\n",
        "\n",
        "### Что нужно сделать\n",
        "\n",
        "Выясните, как слова в рассказе «Анна на шее» распределяются по длине. \n",
        "\n",
        "1. Посчитайте, сколько слов длины 1, 2 и так далее в файле anna_words.txt.\n",
        "\n",
        "2. Выведите на экран информацию в формате `длина количество_слов`, отсортируйте её по возрастанию длины.\n",
        "\n",
        "3. Перенесите вывод программы в Excel или Google Таблицы и постройте столбчатую диаграмму. \n",
        "\n",
        "4. Сравните ваш график с [распределением русских слов по длине](http://nskhuman.ru/unislov/statist.php?nstat=21). В гистограмме по ссылке больше данных, поэтому она лучше показывает соотношение длины слов и их количества в русском языке.\n",
        "\n",
        "### Советы и рекомендации\n",
        "Вероятнее всего, вы снова будете использовать словарь. Ключами в нём будет длина слов, а значениями — количество слов этой длины. Обратите внимание, что словарь нужно сортировать по ключам, а не по значениям, как вы делали ранее."
      ]
    },
    {
      "cell_type": "code",
      "execution_count": 20,
      "id": "31cd934a",
      "metadata": {
        "id": "31cd934a"
      },
      "outputs": [
        {
          "name": "stdout",
          "output_type": "stream",
          "text": [
            "[(1, 6), (2, 13), (3, 127), (4, 299), (5, 288), (6, 334), (7, 399), (8, 314), (9, 182), (10, 124), (11, 111), (12, 45), (13, 21), (14, 11), (15, 7), (16, 1), (17, 4), (18, 2)]\n"
          ]
        },
        {
          "data": {
            "image/png": "[encoded data removed]",
            "text/plain": [
              "<Figure size 640x480 with 1 Axes>"
            ]
          },
          "metadata": {},
          "output_type": "display_data"
        }
      ],
      "source": [
        "import matplotlib.pyplot as plt\n",
        "\n",
        "lens = {}\n",
        "\n",
        "with open('words_freq.txt', encoding='utf-8') as f:\n",
        "    lines = f.read().splitlines()\n",
        "    words_freq = [(line.split()) for line in lines]\n",
        "    \n",
        "    for freq, word in words_freq:\n",
        "        try:\n",
        "            lens[len(word)] += int(freq)\n",
        "        except KeyError:\n",
        "            lens[len(word)] = int(freq)\n",
        "\n",
        "sorted_lens = sorted(lens.items())\n",
        "print(sorted_lens)\n",
        "\n",
        "keys, vals = [], []\n",
        "for lens, counts in sorted_lens:\n",
        "    keys.append(lens)\n",
        "    vals.append(counts)\n",
        "\n",
        "plt.xticks(keys)\n",
        "plt.bar(keys, vals)\n",
        "plt.show()"
      ]
    }
  ],
  "metadata": {
    "colab": {
      "collapsed_sections": [],
      "provenance": []
    },
    "kernelspec": {
      "display_name": "Python 3",
      "language": "python",
      "name": "python3"
    },
    "language_info": {
      "codemirror_mode": {
        "name": "ipython",
        "version": 3
      },
      "file_extension": ".py",
      "mimetype": "text/x-python",
      "name": "python",
      "nbconvert_exporter": "python",
      "pygments_lexer": "ipython3",
      "version": "3.11.1"
    }
  },
  "nbformat": 4,
  "nbformat_minor": 5
}
