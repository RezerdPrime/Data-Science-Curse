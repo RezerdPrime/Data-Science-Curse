{
  "cells": [
    {
      "cell_type": "markdown",
      "metadata": {
        "id": "4tc7YC6O8Ev1"
      },
      "source": [
        "## Практическая работа"
      ]
    },
    {
      "cell_type": "markdown",
      "metadata": {
        "id": "vSt7qQM58QEB"
      },
      "source": [
        "В этой практической работе пять обязательных задач.\n",
        "\n",
        "*Обязательные задачи* помогут проверить, что вы действительно усвоили материал модуля. Сдайте их на проверку.\n",
        "\n",
        "Удачи!"
      ]
    },
    {
      "cell_type": "markdown",
      "metadata": {
        "id": "WwzP6BdQ8jbE"
      },
      "source": [
        "Цели практической работы: \n",
        "\n",
        "\n",
        "1.   Потренироваться в обучении модели линейной регрессии.\n",
        "2.   Потренироваться в обучении модели логистической регрессии. \n",
        "3.   Потренироваться в обучении модели многослойного персептрона.\n",
        "\n",
        "\n",
        "\n"
      ]
    },
    {
      "cell_type": "markdown",
      "metadata": {
        "id": "fGPUx8Nh8l0F"
      },
      "source": [
        "Что оценивается:\n",
        "\n",
        "*   Все пункты и критерии приёмки по каждому заданию выполнены.\n",
        "*   Код оформлен и работает корректно.\n",
        "\n",
        "\n",
        "\n"
      ]
    },
    {
      "cell_type": "markdown",
      "metadata": {
        "id": "IP-cDDXr-WD0"
      },
      "source": [
        "Как отправить работу на проверку:\n",
        "\n",
        "Сдайте практическую работу этого модуля через систему контроля версий Git сервиса Skillbox GitLab. После загрузки работы на проверку напишите об этом в личном кабинете своему куратору."
      ]
    },
    {
      "cell_type": "markdown",
      "metadata": {
        "id": "dH3j5hM1qCUw"
      },
      "source": [
        "В этом задании вам нужно построить модель классификации, определяющую категорию цены/цену подержанного автомобиля в зависимости от характеристик транспортного средства. \n",
        "\n",
        "Мы будем использовать датасет из коллекции подержанных автомобилей, выставленных на продажу в Соединенных Штатах. Он уже подготовлен, без выбросов и с категориальными фичами, преобразованными с помощью one hot encoding, и количественными фичами, стандартизированными с помощью скейлеров.\n"
      ]
    },
    {
      "cell_type": "markdown",
      "metadata": {
        "id": "jKgw4zyS8uOJ"
      },
      "source": [
        "### Описание датасета:\n",
        "- `id`: идентификатор записи;\n",
        "- `is_manufacturer_name`: признак производителя автомобиля;\n",
        "\n",
        "- `region_*`: регион;\n",
        "- `x0_*`: тип топлива;\n",
        "- `manufacturer_*`: производитель;\n",
        "- `short_model_*`: сокращённая модель автомобиля;\n",
        "- `title_status_*`: статус;\n",
        "- `transmission_*`: коробка передач;\n",
        "- `state_*`: штат;\n",
        "- `age_category_*`: возрастная категория автомобиля;\n",
        "\n",
        "- `std_scaled_odometer`: количество пройденных миль (после стандартизации);\n",
        "- `year_std`: год выпуска (после стандартизации);\n",
        "- `lat_std`: широта (после стандартизации);\n",
        "- `long_std`: долгота (после стандартизации);\n",
        "- `odometer/price_std`: отношение стоимости к пробегу автомобиля (после стандартизации);\n",
        "- `desc_len_std`: количество символов в тексте объявления о продаже (после стандартизации);\n",
        "- `model_in_desc_std`: количество наименований модели автомобиля в тексте объявления о продаже (после стандартизации);\n",
        "- `model_len_std`: длина наименования автомобиля (после стандартизации);\n",
        "- `model_word_count_std`: количество слов в наименовании автомобиля (после стандартизации);\n",
        "- `month_std`: номер месяца размещения объявления о продаже автомобиля (после стандартизации);\n",
        "- `dayofweek_std`: день недели размещения объявления о продаже автомобиля (после стандартизации);\n",
        "- `diff_years_std`: количество лет между годом производства автомобиля и годом размещения объявления о продаже автомобиля (после стандартизации);\n",
        "\n",
        "- `price`: стоимость;\n",
        "- `price_category`: категория цены."
      ]
    },
    {
      "cell_type": "markdown",
      "metadata": {
        "id": "f8cwJq0l8oyM"
      },
      "source": [
        "## Обязательные задачи"
      ]
    },
    {
      "cell_type": "code",
      "execution_count": 1,
      "metadata": {
        "id": "k-oAmtZi9R8U"
      },
      "outputs": [],
      "source": [
        "import matplotlib.pyplot as plt\n",
        "import pandas as pd\n",
        "import numpy as np\n",
        "\n",
        "from sklearn.linear_model import LogisticRegression, LinearRegression\n",
        "from sklearn.metrics import accuracy_score, confusion_matrix, mean_absolute_error\n",
        "from sklearn.model_selection import train_test_split \n",
        "from sklearn.neural_network import MLPClassifier"
      ]
    },
    {
      "cell_type": "code",
      "execution_count": 2,
      "metadata": {
        "colab": {
          "base_uri": "https://localhost:8080/",
          "height": 299
        },
        "id": "a4gi-XV1Jkwc",
        "outputId": "3ba30067-9c82-4b3b-aec1-80b22491ba33"
      },
      "outputs": [
        {
          "data": {
            "text/html": [
              "<div>\n",
              "<style scoped>\n",
              "    .dataframe tbody tr th:only-of-type {\n",
              "        vertical-align: middle;\n",
              "    }\n",
              "\n",
              "    .dataframe tbody tr th {\n",
              "        vertical-align: top;\n",
              "    }\n",
              "\n",
              "    .dataframe thead th {\n",
              "        text-align: right;\n",
              "    }\n",
              "</style>\n",
              "<table border=\"1\" class=\"dataframe\">\n",
              "  <thead>\n",
              "    <tr style=\"text-align: right;\">\n",
              "      <th></th>\n",
              "      <th>id</th>\n",
              "      <th>price</th>\n",
              "      <th>price_category</th>\n",
              "      <th>is_audi</th>\n",
              "      <th>is_ford</th>\n",
              "      <th>is_chevrolet</th>\n",
              "      <th>is_toyota</th>\n",
              "      <th>x0_diesel</th>\n",
              "      <th>x0_electric</th>\n",
              "      <th>x0_gas</th>\n",
              "      <th>...</th>\n",
              "      <th>long_std</th>\n",
              "      <th>year_std</th>\n",
              "      <th>odometer/price_std</th>\n",
              "      <th>desc_len_std</th>\n",
              "      <th>model_in_desc_std</th>\n",
              "      <th>model_len_std</th>\n",
              "      <th>model_word_count_std</th>\n",
              "      <th>month_std</th>\n",
              "      <th>dayofweek_std</th>\n",
              "      <th>diff_years_std</th>\n",
              "    </tr>\n",
              "  </thead>\n",
              "  <tbody>\n",
              "    <tr>\n",
              "      <th>0</th>\n",
              "      <td>7308295377</td>\n",
              "      <td>54990</td>\n",
              "      <td>high</td>\n",
              "      <td>0</td>\n",
              "      <td>0</td>\n",
              "      <td>0</td>\n",
              "      <td>0</td>\n",
              "      <td>1.0</td>\n",
              "      <td>0.0</td>\n",
              "      <td>0.0</td>\n",
              "      <td>...</td>\n",
              "      <td>0.484245</td>\n",
              "      <td>1.322394</td>\n",
              "      <td>-0.510784</td>\n",
              "      <td>0.632075</td>\n",
              "      <td>-0.155788</td>\n",
              "      <td>1.163032</td>\n",
              "      <td>1.910669</td>\n",
              "      <td>-0.615846</td>\n",
              "      <td>1.120284</td>\n",
              "      <td>-1.322394</td>\n",
              "    </tr>\n",
              "    <tr>\n",
              "      <th>1</th>\n",
              "      <td>7316380095</td>\n",
              "      <td>16942</td>\n",
              "      <td>medium</td>\n",
              "      <td>0</td>\n",
              "      <td>1</td>\n",
              "      <td>0</td>\n",
              "      <td>0</td>\n",
              "      <td>0.0</td>\n",
              "      <td>0.0</td>\n",
              "      <td>0.0</td>\n",
              "      <td>...</td>\n",
              "      <td>1.110800</td>\n",
              "      <td>0.695973</td>\n",
              "      <td>-0.402947</td>\n",
              "      <td>-0.646781</td>\n",
              "      <td>-0.155788</td>\n",
              "      <td>0.932087</td>\n",
              "      <td>1.235799</td>\n",
              "      <td>1.623784</td>\n",
              "      <td>-1.374972</td>\n",
              "      <td>-0.695973</td>\n",
              "    </tr>\n",
              "    <tr>\n",
              "      <th>2</th>\n",
              "      <td>7313733749</td>\n",
              "      <td>35590</td>\n",
              "      <td>high</td>\n",
              "      <td>0</td>\n",
              "      <td>0</td>\n",
              "      <td>0</td>\n",
              "      <td>0</td>\n",
              "      <td>0.0</td>\n",
              "      <td>0.0</td>\n",
              "      <td>1.0</td>\n",
              "      <td>...</td>\n",
              "      <td>0.531185</td>\n",
              "      <td>0.852578</td>\n",
              "      <td>-0.514480</td>\n",
              "      <td>0.560744</td>\n",
              "      <td>-0.155788</td>\n",
              "      <td>0.470197</td>\n",
              "      <td>0.560930</td>\n",
              "      <td>-0.615846</td>\n",
              "      <td>-0.376870</td>\n",
              "      <td>-0.852578</td>\n",
              "    </tr>\n",
              "    <tr>\n",
              "      <th>3</th>\n",
              "      <td>7308210929</td>\n",
              "      <td>14500</td>\n",
              "      <td>medium</td>\n",
              "      <td>0</td>\n",
              "      <td>0</td>\n",
              "      <td>0</td>\n",
              "      <td>1</td>\n",
              "      <td>0.0</td>\n",
              "      <td>0.0</td>\n",
              "      <td>1.0</td>\n",
              "      <td>...</td>\n",
              "      <td>0.853562</td>\n",
              "      <td>0.226157</td>\n",
              "      <td>-0.241883</td>\n",
              "      <td>0.180435</td>\n",
              "      <td>-0.155788</td>\n",
              "      <td>-0.915473</td>\n",
              "      <td>-0.788810</td>\n",
              "      <td>-0.615846</td>\n",
              "      <td>1.120284</td>\n",
              "      <td>-0.226157</td>\n",
              "    </tr>\n",
              "    <tr>\n",
              "      <th>4</th>\n",
              "      <td>7303797340</td>\n",
              "      <td>14590</td>\n",
              "      <td>medium</td>\n",
              "      <td>0</td>\n",
              "      <td>0</td>\n",
              "      <td>0</td>\n",
              "      <td>0</td>\n",
              "      <td>0.0</td>\n",
              "      <td>0.0</td>\n",
              "      <td>0.0</td>\n",
              "      <td>...</td>\n",
              "      <td>0.557607</td>\n",
              "      <td>0.069552</td>\n",
              "      <td>-0.333074</td>\n",
              "      <td>0.766366</td>\n",
              "      <td>-0.155788</td>\n",
              "      <td>1.163032</td>\n",
              "      <td>1.910669</td>\n",
              "      <td>-0.615846</td>\n",
              "      <td>0.122182</td>\n",
              "      <td>-0.069552</td>\n",
              "    </tr>\n",
              "  </tbody>\n",
              "</table>\n",
              "<p>5 rows × 1463 columns</p>\n",
              "</div>"
            ],
            "text/plain": [
              "           id  price price_category  is_audi  is_ford  is_chevrolet  \\\n",
              "0  7308295377  54990           high        0        0             0   \n",
              "1  7316380095  16942         medium        0        1             0   \n",
              "2  7313733749  35590           high        0        0             0   \n",
              "3  7308210929  14500         medium        0        0             0   \n",
              "4  7303797340  14590         medium        0        0             0   \n",
              "\n",
              "   is_toyota  x0_diesel  x0_electric  x0_gas  ...  long_std  year_std  \\\n",
              "0          0        1.0          0.0     0.0  ...  0.484245  1.322394   \n",
              "1          0        0.0          0.0     0.0  ...  1.110800  0.695973   \n",
              "2          0        0.0          0.0     1.0  ...  0.531185  0.852578   \n",
              "3          1        0.0          0.0     1.0  ...  0.853562  0.226157   \n",
              "4          0        0.0          0.0     0.0  ...  0.557607  0.069552   \n",
              "\n",
              "   odometer/price_std  desc_len_std  model_in_desc_std  model_len_std  \\\n",
              "0           -0.510784      0.632075          -0.155788       1.163032   \n",
              "1           -0.402947     -0.646781          -0.155788       0.932087   \n",
              "2           -0.514480      0.560744          -0.155788       0.470197   \n",
              "3           -0.241883      0.180435          -0.155788      -0.915473   \n",
              "4           -0.333074      0.766366          -0.155788       1.163032   \n",
              "\n",
              "   model_word_count_std  month_std  dayofweek_std  diff_years_std  \n",
              "0              1.910669  -0.615846       1.120284       -1.322394  \n",
              "1              1.235799   1.623784      -1.374972       -0.695973  \n",
              "2              0.560930  -0.615846      -0.376870       -0.852578  \n",
              "3             -0.788810  -0.615846       1.120284       -0.226157  \n",
              "4              1.910669  -0.615846       0.122182       -0.069552  \n",
              "\n",
              "[5 rows x 1463 columns]"
            ]
          },
          "execution_count": 2,
          "metadata": {},
          "output_type": "execute_result"
        }
      ],
      "source": [
        "df = pd.read_csv('vehicles_dataset_prepared.csv')\n",
        "df.head()"
      ]
    },
    {
      "cell_type": "markdown",
      "metadata": {
        "id": "VMmY9Xa-JdRj"
      },
      "source": [
        "**Задача 0. Линейная регрессия**\n",
        "\n",
        "Вспомните задачу по предсказанию стоимости поддержанного автомобиля. Попробуем обучить модель линейной регрессии для предсказания цены автомобиля (колонка `price`). Для этого проделайте следующие шаги:\n",
        "\n",
        "- Подготовьте данные: удалите колонки, которые косвенно содержат информацию о целевой переменной (`odometer/price_std`, `price_category`).\n",
        "- Разделите выборку на треин и тест в отношении 70/30.\n",
        "- Обучите модель линейной регрессии с дефолтными параметрами.\n",
        "- Посчитайте значение метрики mae на тестовой выборке для линейной регрессии.\n",
        "- Выведите получившиеся коэффициенты линейной регрессии при каждом параметре обучающей выборки с помощью метода `coef_`. Есть ли коэффициенты, которые равны нулю? Если есть, выведите названия фичей с нулевым коэффициентом\n",
        "- Удалите фичи, коэффициенты которых равны нулю. И переобучите модель. Убедитесь, что значение метрики не изменилось.\n",
        "\n"
      ]
    },
    {
      "cell_type": "code",
      "execution_count": 15,
      "metadata": {
        "id": "i1tH2p0nopsf"
      },
      "outputs": [
        {
          "name": "stdout",
          "output_type": "stream",
          "text": [
            "MAE: 4600.341121893259\n"
          ]
        }
      ],
      "source": [
        "df_train = df.drop(columns=['odometer/price_std', 'price_category'])\n",
        "x = df_train.drop(columns=['price'])\n",
        "y = df_train['price']\n",
        "\n",
        "x_train, x_test, y_train, y_test = train_test_split(x, y, test_size=0.3, random_state=42)\n",
        "\n",
        "model = LinearRegression()\n",
        "model.fit(x_train, y_train)\n",
        "\n",
        "y_pred = model.predict(x_test)\n",
        "\n",
        "mae = mean_absolute_error(y_test, y_pred)\n",
        "print(f'MAE: {mae}')"
      ]
    },
    {
      "cell_type": "code",
      "execution_count": 16,
      "metadata": {},
      "outputs": [
        {
          "data": {
            "text/html": [
              "<div>\n",
              "<style scoped>\n",
              "    .dataframe tbody tr th:only-of-type {\n",
              "        vertical-align: middle;\n",
              "    }\n",
              "\n",
              "    .dataframe tbody tr th {\n",
              "        vertical-align: top;\n",
              "    }\n",
              "\n",
              "    .dataframe thead th {\n",
              "        text-align: right;\n",
              "    }\n",
              "</style>\n",
              "<table border=\"1\" class=\"dataframe\">\n",
              "  <thead>\n",
              "    <tr style=\"text-align: right;\">\n",
              "      <th></th>\n",
              "      <th>coef</th>\n",
              "    </tr>\n",
              "  </thead>\n",
              "  <tbody>\n",
              "    <tr>\n",
              "      <th>manufacturer_ferrari</th>\n",
              "      <td>0.0</td>\n",
              "    </tr>\n",
              "  </tbody>\n",
              "</table>\n",
              "</div>"
            ],
            "text/plain": [
              "                      coef\n",
              "manufacturer_ferrari   0.0"
            ]
          },
          "execution_count": 16,
          "metadata": {},
          "output_type": "execute_result"
        }
      ],
      "source": [
        "coefs = pd.DataFrame(model.coef_, x.columns, columns=['coef'])\n",
        "coefs[coefs.coef == 0]"
      ]
    },
    {
      "cell_type": "code",
      "execution_count": 17,
      "metadata": {},
      "outputs": [
        {
          "name": "stdout",
          "output_type": "stream",
          "text": [
            "MAE: 4600.341117382269\n"
          ]
        }
      ],
      "source": [
        "x = df_train.drop(['price', \"manufacturer_ferrari\"], axis=1)\n",
        "y = df_train['price']\n",
        "\n",
        "x_train, x_test, y_train, y_test = train_test_split(x, y, test_size=0.3, random_state=42)\n",
        "\n",
        "model = LinearRegression()\n",
        "model.fit(x_train, y_train)\n",
        "\n",
        "y_pred = model.predict(x_test)\n",
        "\n",
        "mae = mean_absolute_error(y_test, y_pred)\n",
        "print(f'MAE: {mae}')"
      ]
    },
    {
      "cell_type": "markdown",
      "metadata": {},
      "source": [
        "ну оно изменилось, но крайне незначительно"
      ]
    },
    {
      "cell_type": "markdown",
      "metadata": {
        "id": "n3d55h5IQZoC"
      },
      "source": [
        "**Задача 1. Логистическая регрессия**\n",
        "\n",
        "Теперь в рамках тех же данных попробуйте предсказать `price_category` с помощью алгоритма логистической регрессии. Предварительно из датафрейма удалите переменные, в которых косвенно содержится информация о целевой переменной (`odometer/price_std`, `price`). \n",
        "\n",
        "Для обученной модели нужно:\n",
        "\n",
        "- рассчитать и вывести метрику качества (accuracy) на тренировочной выборке;\n",
        "- сделать предикт на тестовых данных и положить его в переменную `logreg_pred`;\n",
        "- рассчитать и вывести accuracy и confusion_matrix на тестовой выборке.\n",
        "\n",
        "\n",
        "Задание засчитывается, если: \n",
        "- accuracy на тренировочной выборке > 87%;\n",
        "- accuracy на тестовой выборке > 75.5%.\n",
        "\n",
        "Для улучшения метрики можно преобразовывать входные данные, тюнить параметры логистической регрессии."
      ]
    },
    {
      "cell_type": "code",
      "execution_count": 3,
      "metadata": {
        "id": "tZpWbWaMootx"
      },
      "outputs": [],
      "source": [
        "# Ваш код подготовки данных здесь. Допишите инициализацию входных фичей и целевую переменную\n",
        "x = df.drop([\"odometer/price_std\", \"price\", \"price_category\", \"id\"], axis=1)\n",
        "y = df['price_category']\n",
        "\n",
        "x_train, x_test, y_train, y_test = train_test_split(x, y, test_size=0.3, random_state=42)"
      ]
    },
    {
      "cell_type": "code",
      "execution_count": 7,
      "metadata": {
        "id": "XQL-04-XpD_n"
      },
      "outputs": [
        {
          "data": {
            "text/plain": [
              "(0.8730135155205703,\n",
              " 0.7595287595287595,\n",
              " array([[801,  23, 173],\n",
              "        [ 23, 771, 159],\n",
              "        [151, 165, 620]], dtype=int64))"
            ]
          },
          "execution_count": 7,
          "metadata": {},
          "output_type": "execute_result"
        }
      ],
      "source": [
        "logreg = LogisticRegression(C=2.2, max_iter=1000)#solver=\"newton-cg\"  \n",
        "\n",
        "logreg.fit(x_train, y_train)\n",
        "\n",
        "log_pred = logreg.predict(x_test)\n",
        "accuracy_score(y_train, logreg.predict(x_train)), accuracy_score(y_test, log_pred), confusion_matrix(y_test, log_pred)"
      ]
    },
    {
      "cell_type": "markdown",
      "metadata": {
        "id": "sPYGPr0ssX1l"
      },
      "source": [
        "**Задача 2. Многослойный персептрон**\n",
        "\n",
        "Решите задачу, поставленную в предыдущем задании, применив модель многослойного персептрона. Добейтесь лучших значений точности на тренировочной и тестовой выборках, чем на логистической регрессии, с помощью данного алгоритма. \n",
        "\n",
        "Значимым увеличением точности в данном задании будем считать увеличение больше, чем на 0.01 по метрике accuracy."
      ]
    },
    {
      "cell_type": "code",
      "execution_count": 20,
      "metadata": {
        "id": "1CWqF0Pl44IW"
      },
      "outputs": [
        {
          "data": {
            "text/plain": [
              "(0.9919798009802465,\n",
              " 0.7654192654192654,\n",
              " array([[872,  14, 111],\n",
              "        [ 27, 713, 213],\n",
              "        [190, 122, 624]], dtype=int64))"
            ]
          },
          "execution_count": 20,
          "metadata": {},
          "output_type": "execute_result"
        }
      ],
      "source": [
        "x = df.drop([\"odometer/price_std\", \"price\", \"price_category\", \"id\"], axis=1)\n",
        "y = df['price_category']\n",
        "\n",
        "x_train, x_test, y_train, y_test = train_test_split(x, y, test_size=0.3, random_state=42)\n",
        "\n",
        "mlp = MLPClassifier(hidden_layer_sizes=(200, 100, 50))\n",
        "mlp.fit(x_train, y_train)\n",
        "\n",
        "accuracy_score(y_train, mlp.predict(x_train)), accuracy_score(y_test, mlp.predict(x_test)), confusion_matrix(y_test, mlp.predict(x_test))"
      ]
    },
    {
      "cell_type": "markdown",
      "metadata": {
        "id": "6ru5oLsGBOLv"
      },
      "source": [
        "**Задача 3. Сравнение с древовидными моделями**\n",
        "\n",
        "Обучите модель случайного леса на тех же данных для предсказания `price_category`. Сравните качество с моделью логистической регрессии и многослойного персептрона. Словами опишите, какая из моделей в каких случаях работает лучше по результатам на тестовой выборке, и обоснуйте свой выбор."
      ]
    },
    {
      "cell_type": "code",
      "execution_count": 8,
      "metadata": {
        "id": "gYFQzRHM41Dg"
      },
      "outputs": [
        {
          "data": {
            "text/plain": [
              "(1.0,\n",
              " 0.7616077616077616,\n",
              " array([[804,  38, 155],\n",
              "        [ 14, 808, 131],\n",
              "        [145, 205, 586]], dtype=int64))"
            ]
          },
          "execution_count": 8,
          "metadata": {},
          "output_type": "execute_result"
        }
      ],
      "source": [
        "from sklearn.ensemble import RandomForestClassifier\n",
        "\n",
        "rf = RandomForestClassifier(n_estimators=1000, random_state=42)\n",
        "rf.fit(x_train, y_train)\n",
        "\n",
        "rf_pred = rf.predict(x_test)\n",
        "accuracy_score(y_train, rf.predict(x_train)), accuracy_score(y_test, rf_pred), confusion_matrix(y_test, rf_pred)"
      ]
    },
    {
      "cell_type": "markdown",
      "metadata": {},
      "source": [
        "Различие вообще говоря минимальное, однако предпочтение я бы отдал перцептрону, поскольку у него лучшая точность и работа не занимает слишком много времени"
      ]
    },
    {
      "cell_type": "markdown",
      "metadata": {
        "id": "-DrgXqjv2Rgk"
      },
      "source": [
        "**Задача 4. Стратегия голосования**\n",
        "\n",
        "Реализуйте стратегию голосования для предсказания целевой переменной.\n",
        "Голосование в задаче классификации — это когда несколько моделей выдают свои предикты, и финальным выбирается тот предикт, который предсказали большинство моделей.\n",
        "\n",
        "Для реализации этой стратегии проделайте следующее:\n",
        "\n",
        "- сохраните предсказания каждой из моделей (случайный лес, многослойный персептрон, логистическая регрессия) для тестовой выборки в датафрейм `pred_df`;\n",
        "- в четвертую колонку `target` положите тот класс, который предсказало большинство классификаторов. Например, если в строке были значения `high, medium, medium`, в `target` нужно положить `medium`.\n",
        "\n",
        "     Если в строке три разных класса — `high, medium, low`, — придумайте свою стратегию по выбору значения. Самая простая стратегия: выбрать рандомно одно значение из трёх.\n",
        "\n",
        "- посчитайте точность предсказания с помощью голосования. Выведите значения метрик accuracy и confusion_matrix.\n",
        "\n",
        "\n",
        "Добейтесь значения точности > 78% "
      ]
    },
    {
      "cell_type": "code",
      "execution_count": 9,
      "metadata": {
        "id": "KKTpNxaK5UhX"
      },
      "outputs": [
        {
          "data": {
            "text/plain": [
              "(0.7803187803187803,\n",
              " array([[807,  21, 169],\n",
              "        [ 15, 803, 135],\n",
              "        [127, 167, 642]], dtype=int64))"
            ]
          },
          "execution_count": 9,
          "metadata": {},
          "output_type": "execute_result"
        }
      ],
      "source": [
        "logreg = LogisticRegression(C=2.2, max_iter=1000)\n",
        "mlp = MLPClassifier(hidden_layer_sizes=(200, 100, 50), max_iter=1000, activation=\"logistic\")\n",
        "rf = RandomForestClassifier(n_estimators=200)\n",
        "\n",
        "logreg.fit(x_train, y_train)\n",
        "mlp.fit(x_train, y_train)\n",
        "rf.fit(x_train, y_train)\n",
        "\n",
        "logreg_pred = logreg.predict(x_test)\n",
        "mlp_pred = mlp.predict(x_test)\n",
        "rf_pred = rf.predict(x_test)\n",
        "\n",
        "pred_df = pd.DataFrame({\n",
        "    'logreg': logreg_pred,\n",
        "    'mlp': mlp_pred,\n",
        "    'rf': rf_pred\n",
        "})\n",
        "\n",
        "\n",
        "def vote(row):\n",
        "    vote_counts = row.value_counts()\n",
        "    \n",
        "    if len(vote_counts) == 1:\n",
        "        return vote_counts.index[0]\n",
        "    \n",
        "    elif len(vote_counts) == 2:\n",
        "        return vote_counts.idxmax()\n",
        "    \n",
        "    else:\n",
        "        return np.random.choice(vote_counts.index)\n",
        "\n",
        "pred_df['target'] = pred_df.apply(vote, axis=1)\n",
        "\n",
        "accuracy_score(y_test, pred_df['target']), confusion_matrix(y_test, pred_df['target'])"
      ]
    },
    {
      "cell_type": "markdown",
      "metadata": {
        "id": "FmuF3_05i2AD"
      },
      "source": [
        "**Примечание:**\n",
        "\n",
        "В этом домашнем задании в задаче номер 1 и далее перед вами встал выбор: включать ли в обучение колонку `id`. При удалении данной колонки во время обучении логистической регрессии качество заметно улучшается.\n",
        "\n",
        "Вообще обучать любую модель (будь то логистическая или линейная регрессия, или древовидный алгоритм) на данных айдишников не считается хорошей практикой. Как правило, между `id` и целевой переменной не должно быть никаких взаимосвязей. Включая колонку `id` в качества атрибута в обучение, вы стараетесь \"заточить\" результаты своей модели под айдишники записей. Таким образом модель обучится на некотором наборе \"частных случаев\", и, возможно, не обратит внимание на общие зависимости.   "
      ]
    }
  ],
  "metadata": {
    "colab": {
      "collapsed_sections": [],
      "name": "Домашняя работа.ipynb",
      "provenance": []
    },
    "kernelspec": {
      "display_name": "Python 3",
      "name": "python3"
    },
    "language_info": {
      "codemirror_mode": {
        "name": "ipython",
        "version": 3
      },
      "file_extension": ".py",
      "mimetype": "text/x-python",
      "name": "python",
      "nbconvert_exporter": "python",
      "pygments_lexer": "ipython3",
      "version": "3.11.1"
    }
  },
  "nbformat": 4,
  "nbformat_minor": 0
}
