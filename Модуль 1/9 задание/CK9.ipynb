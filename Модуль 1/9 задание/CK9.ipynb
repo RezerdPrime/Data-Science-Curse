{
 "cells": [
  {
   "cell_type": "markdown",
   "metadata": {
    "id": "I3cIqq1_avyx"
   },
   "source": [
    "# Функции. Домашнее задание\n",
    "\n",
    "В домашнем задании есть обязательные и дополнительные задачи.\n",
    "\n",
    "*Обязательные задачи* нужно сделать, чтобы проверить, что вы действительно усвоили материал модуля. Они обязательны к загрузке на проверку преподавателю.\n",
    "\n",
    "*Дополнительные задачи* для тех, кто чувствует, что нужно ещё немного потренироваться и порешать задачки по программированию. Вы также можете загрузить их на проверку преподавателю и получить по ним обратную связь.\n",
    "\n",
    "Удачи!\n"
   ]
  },
  {
   "cell_type": "markdown",
   "metadata": {
    "id": "TaxnMjUDcPku"
   },
   "source": [
    "---"
   ]
  },
  {
   "cell_type": "markdown",
   "metadata": {
    "id": "mF7WQFldayeZ"
   },
   "source": [
    "**Цели домашнего задания:**\n",
    "1. Научиться декомпозировать код с помощью функций.\n",
    "2. Попрактиковаться в использовании встроенных функций и методов.\n",
    "3. Проверить понимание и умение работать с рекурсивными функциями.\n",
    "4. Отработать обработку текстовых данных.\n",
    "\n"
   ]
  },
  {
   "cell_type": "markdown",
   "metadata": {
    "id": "qrO7Cn2EeUP9"
   },
   "source": [
    "**Что входит в домашнее задание:**\n",
    "1. *Обязательные задачи*:\n",
    "- Конвертация валют.\n",
    "- Обработка анкет.\n",
    "- Факториал.\n",
    "- Палиндром\n",
    "\n",
    "2. *Дополнительные задачи*:\n",
    "- Количество цифр в числе.\n",
    "- Количество отличников и двоечников.\n",
    "- Калькулятор.\n",
    "\n"
   ]
  },
  {
   "cell_type": "markdown",
   "metadata": {
    "id": "JyaO4C1veWzM"
   },
   "source": [
    "**Критерии оценки:**\n",
    "- программа выдаёт верный ответ на разных наборах входных данных;\n",
    "- код читабелен: переменным даны осмысленные названия, отступы и правила расстановки пробелов соблюдены;\n",
    "- код соответствует принципу DRY и декомпозирован с помощью функций.\n",
    "\n",
    "\n",
    "**Как отправить задание на проверку**\n",
    "\n",
    "Выполните задачи, сохраните изменения при помощи опции Save and Checkpoint из вкладки меню File или кнопки Save and Checkpoint на панели инструментов. Отправьте через форму на платформе итоговый файл Jupyter Notebook (в формате .ipynb) или ссылку на него."
   ]
  },
  {
   "cell_type": "markdown",
   "metadata": {
    "id": "qSDMGVxpbOMM"
   },
   "source": [
    "\n",
    "\n",
    "---\n",
    "\n",
    "\n",
    "\n",
    "---\n",
    "\n"
   ]
  },
  {
   "cell_type": "markdown",
   "metadata": {
    "id": "6m31Ptr8tFdp"
   },
   "source": [
    "**Обязательные задачи**"
   ]
  },
  {
   "cell_type": "markdown",
   "metadata": {
    "id": "1nI8YsZQ8xvq"
   },
   "source": [
    "*Задача 1. Конвертация валют*\n",
    "\n",
    "Напишите функцию `rub_to_currency`, которая переводит деньги в рублях в одну из двух валют: USD или CNY. У функции должно быть два входных параметра:\n",
    "1. `rub_amount` — деньги в рублях;\n",
    "2.  `currency` — валюта, в которую нужно совершить перевод. Если второй параметр не указан, по умолчанию следует считать его равным USD.\n",
    "\n",
    "На выходе функция должна вывести на экран, сколько рублей было дано в начале и сколько денег получилось в заданной валюте. В случае с китайским юанем также нужно вывести промежуточное значение в долларах. Если на вход в `currency` приходит невалидное значение, нужно вывести на экран сообщение: «Расчёт не может быть совершён».\n",
    "\n",
    "Декомпозируйте данную задачу на несколько функций.\n",
    "\n",
    "Проверьте, что функция `rub_to_currency` в последующих ячейках отработала верно."
   ]
  },
  {
   "cell_type": "code",
   "execution_count": 126,
   "metadata": {
    "id": "u1pxlf7BDNa4"
   },
   "outputs": [],
   "source": [
    "def rub2usd(rub_amount):\n",
    "    converted = rub_amount / 70.99\n",
    "    print(f\"было: {rub_amount}RUB, стало: {converted}USD\")\n",
    "\n",
    "    return converted\n",
    "\n",
    "\n",
    "def usd2cny(usd_amount):\n",
    "    converted = usd_amount * 6.44\n",
    "    print(f\"было: {usd_amount}USD, стало: {converted}CNY\")\n"
   ]
  },
  {
   "cell_type": "code",
   "execution_count": 127,
   "metadata": {
    "id": "HBAVvL_-qSCC"
   },
   "outputs": [],
   "source": [
    "def rub_to_currency(rub_amount, currency='USD'):\n",
    "    if currency == \"USD\":\n",
    "        rub2usd(rub_amount)\n",
    "\n",
    "    elif currency == \"CNY\":\n",
    "        print(\"Конвертация в USD\")\n",
    "        converted2usd = rub2usd(rub_amount)\n",
    "        usd2cny(converted2usd)\n",
    "\n",
    "    else:\n",
    "        print(\"Расчёт не может быть совершён\")"
   ]
  },
  {
   "cell_type": "code",
   "execution_count": 128,
   "metadata": {
    "colab": {
     "base_uri": "https://localhost:8080/"
    },
    "executionInfo": {
     "elapsed": 269,
     "status": "ok",
     "timestamp": 1634725925583,
     "user": {
      "displayName": "Евгения Миллер",
      "photoUrl": "https://lh3.googleusercontent.com/a-/AOh14Gj2X0dQicVOw3_uvDLm2AdkkDjMIUubVj8NCWQ6=s64",
      "userId": "01842992490389353651"
     },
     "user_tz": -180
    },
    "id": "Yjg-saciqofS",
    "outputId": "5e5ea18a-c24e-40cf-9c6d-e47ea90ccdca"
   },
   "outputs": [
    {
     "name": "stdout",
     "output_type": "stream",
     "text": [
      "было: 7200RUB, стало: 101.4227355965629USD\n"
     ]
    }
   ],
   "source": [
    "rub_to_currency(7200, 'USD')"
   ]
  },
  {
   "cell_type": "code",
   "execution_count": 129,
   "metadata": {
    "colab": {
     "base_uri": "https://localhost:8080/"
    },
    "executionInfo": {
     "elapsed": 9,
     "status": "ok",
     "timestamp": 1634725928298,
     "user": {
      "displayName": "Евгения Миллер",
      "photoUrl": "https://lh3.googleusercontent.com/a-/AOh14Gj2X0dQicVOw3_uvDLm2AdkkDjMIUubVj8NCWQ6=s64",
      "userId": "01842992490389353651"
     },
     "user_tz": -180
    },
    "id": "Q7CjbrYeGWdV",
    "outputId": "06396061-4f2b-4424-a33c-8adf019b2350"
   },
   "outputs": [
    {
     "name": "stdout",
     "output_type": "stream",
     "text": [
      "Конвертация в USD\n",
      "было: 7200RUB, стало: 101.4227355965629USD\n",
      "было: 101.4227355965629USD, стало: 653.1624172418651CNY\n"
     ]
    }
   ],
   "source": [
    "rub_to_currency(7200, 'CNY')"
   ]
  },
  {
   "cell_type": "code",
   "execution_count": 130,
   "metadata": {
    "colab": {
     "base_uri": "https://localhost:8080/"
    },
    "executionInfo": {
     "elapsed": 643,
     "status": "ok",
     "timestamp": 1634725942227,
     "user": {
      "displayName": "Евгения Миллер",
      "photoUrl": "https://lh3.googleusercontent.com/a-/AOh14Gj2X0dQicVOw3_uvDLm2AdkkDjMIUubVj8NCWQ6=s64",
      "userId": "01842992490389353651"
     },
     "user_tz": -180
    },
    "id": "YdeDa2mkGfx1",
    "outputId": "829e06de-c5d0-4b4b-abda-37ec5ba300a0"
   },
   "outputs": [
    {
     "name": "stdout",
     "output_type": "stream",
     "text": [
      "Расчёт не может быть совершён\n"
     ]
    }
   ],
   "source": [
    "rub_to_currency(7200, 'EUR')"
   ]
  },
  {
   "cell_type": "code",
   "execution_count": 131,
   "metadata": {
    "colab": {
     "base_uri": "https://localhost:8080/"
    },
    "executionInfo": {
     "elapsed": 932,
     "status": "ok",
     "timestamp": 1634725945130,
     "user": {
      "displayName": "Евгения Миллер",
      "photoUrl": "https://lh3.googleusercontent.com/a-/AOh14Gj2X0dQicVOw3_uvDLm2AdkkDjMIUubVj8NCWQ6=s64",
      "userId": "01842992490389353651"
     },
     "user_tz": -180
    },
    "id": "vdPKCHseAFLZ",
    "outputId": "bed0869b-53d5-4407-88d5-867fd8fde102"
   },
   "outputs": [
    {
     "name": "stdout",
     "output_type": "stream",
     "text": [
      "было: 7200RUB, стало: 101.4227355965629USD\n"
     ]
    }
   ],
   "source": [
    "rub_to_currency(7200)"
   ]
  },
  {
   "cell_type": "markdown",
   "metadata": {
    "id": "1YIw6X35mR5U"
   },
   "source": [
    "*Задача 2. Обработка анкет*\n",
    "\n",
    "Вам выгрузили список с анкетами потенциальных клиентов, которые заинтересовались покупкой подписки на здоровую еду. Вам нужно обработать эти значения и сказать, какие анкеты подходят (а какие нет) для дальнейшего обзвона колл-центром.\n",
    "\n",
    "Условия, которым должна удовлетворять анкета:\n",
    "* Есть контактная информация: номер телефона.\n",
    "* Контактный номер начинается либо с восьмёрки, либо с семёрки и состоит из десяти символов.\n",
    "* Город проживания: Москва.\n",
    "\n",
    "Пример анкеты выглядит следующим образом: `name=Аня,phone=8800234 , city=москва`. Заметьте, в значениях параметров городов, имён, номеров телефонов могут встретиться лишние пробелы. Попробуйте удалить их с помощью метода `replace`.\n"
   ]
  },
  {
   "cell_type": "code",
   "execution_count": 132,
   "metadata": {
    "colab": {
     "base_uri": "https://localhost:8080/"
    },
    "executionInfo": {
     "elapsed": 354,
     "status": "ok",
     "timestamp": 1634726098579,
     "user": {
      "displayName": "Евгения Миллер",
      "photoUrl": "https://lh3.googleusercontent.com/a-/AOh14Gj2X0dQicVOw3_uvDLm2AdkkDjMIUubVj8NCWQ6=s64",
      "userId": "01842992490389353651"
     },
     "user_tz": -180
    },
    "id": "t_BdijwS72m2",
    "outputId": "78a7582a-a68f-4c79-9027-c0e04a974055"
   },
   "outputs": [
    {
     "name": "stdout",
     "output_type": "stream",
     "text": [
      "aaaa\n",
      "!!!????\n",
      "?!aaaa\n"
     ]
    }
   ],
   "source": [
    "# Метод replace заменяет все вхождения строки, указанной первым аргументом, на строку, указанную вторым аргументом\n",
    "\n",
    "# Замена восклицательного знака на пустоту\n",
    "print('!!!aaaa'.replace('!',''))\n",
    "# Замена а на вопросительный знак\n",
    "print('!!!aaaa'.replace('a','?'))\n",
    "# Замена двух восклицательных знаков на вопросительный\n",
    "print('!!!aaaa'.replace('!!','?'))"
   ]
  },
  {
   "cell_type": "code",
   "execution_count": 133,
   "metadata": {
    "id": "bQFctEmbrezu"
   },
   "outputs": [],
   "source": [
    "applications = [\n",
    "         'name=Аня,phone=8800234 ,city=москва',\n",
    "         'name=КОЛЯ,phone=8800900871 ,city=МОСКВА',\n",
    "         'name=Валентина,phone=7950900871 ,city=волгоград',\n",
    "         'name=,phone=7999901871,city=москва',\n",
    "         'name=Иван,phone=7999901871,city=москва',\n",
    "         'name=Инга,phone=,city=москва'\n",
    "\n",
    "] "
   ]
  },
  {
   "cell_type": "code",
   "execution_count": 134,
   "metadata": {
    "id": "pLEy-WBWswti"
   },
   "outputs": [],
   "source": [
    "# функция проверки валидности номера\n",
    "def check_phone(phone):\n",
    "    if len(phone) == 10:\n",
    "        \n",
    "        if (phone[0] == \"8\") or (phone[0] == \"7\"):\n",
    "            return True\n",
    "        else: return False\n",
    "\n",
    "    else: return False\n",
    "\n",
    "# функция проверки города\n",
    "def check_city(city):\n",
    "    return city.lower() == \"москва\"\n",
    "\n",
    "# функция проверки одной анкеты\n",
    "def check_application(application):\n",
    "    application = application.replace(\" \", \"\").split(\",\")\n",
    "\n",
    "    return check_phone(application[1][6:]) and check_city(application[2][5:])\n"
   ]
  },
  {
   "cell_type": "code",
   "execution_count": 135,
   "metadata": {
    "id": "Cd5SqD6cset6"
   },
   "outputs": [],
   "source": [
    "# функция проверки списка анкет\n",
    "def find_valid_applications(applications):\n",
    "    for app in applications:\n",
    "        print(f\"{app} --- {check_application(app)}\")"
   ]
  },
  {
   "cell_type": "markdown",
   "metadata": {
    "id": "F8ISsSdO8hL8"
   },
   "source": [
    "Результат функции должен быть напечатан на экран в следующем виде:"
   ]
  },
  {
   "cell_type": "code",
   "execution_count": 136,
   "metadata": {
    "colab": {
     "base_uri": "https://localhost:8080/"
    },
    "executionInfo": {
     "elapsed": 262,
     "status": "ok",
     "timestamp": 1634726175008,
     "user": {
      "displayName": "Евгения Миллер",
      "photoUrl": "https://lh3.googleusercontent.com/a-/AOh14Gj2X0dQicVOw3_uvDLm2AdkkDjMIUubVj8NCWQ6=s64",
      "userId": "01842992490389353651"
     },
     "user_tz": -180
    },
    "id": "S7JfnKlE2k8n",
    "outputId": "ac071921-5f07-4b32-e8bd-0655302074ff"
   },
   "outputs": [
    {
     "name": "stdout",
     "output_type": "stream",
     "text": [
      "name=Аня,phone=8800234 ,city=москва --- False\n",
      "name=КОЛЯ,phone=8800900871 ,city=МОСКВА --- True\n",
      "name=Валентина,phone=7950900871 ,city=волгоград --- False\n",
      "name=,phone=7999901871,city=москва --- True\n",
      "name=Иван,phone=7999901871,city=москва --- True\n",
      "name=Инга,phone=,city=москва --- False\n"
     ]
    }
   ],
   "source": [
    "find_valid_applications(applications)\n",
    "# функция проверки списка анкет\n",
    "def find_valid_applications(applications):\n",
    "    for app in applications:\n",
    "        print(f\"{app} --- {check_application(app)}\")"
   ]
  },
  {
   "cell_type": "markdown",
   "metadata": {
    "id": "c3X805npAhXG"
   },
   "source": [
    "*Задача 3. Факториал*\n",
    "\n",
    "Факториалом числа n называется произведение всех натуральных чисел от 1 до n.\n",
    "\n",
    "\n",
    "\n",
    "> n! = 1 \\* 2 \\*...\\* n\n",
    "\n",
    "> 3! = 1 \\* 2 \\* 3 = 6\n",
    "\n",
    "> 0! = 1\n",
    "\n",
    "Напишите рекурсивную функцию нахождения факториала, где входным параметром является одно единственное число — n. Проверьте, что функция в последующих ячейках отработала верно.\n",
    "\n",
    "\n",
    "\n",
    "\n",
    "\n",
    "\n",
    "\n"
   ]
  },
  {
   "cell_type": "code",
   "execution_count": 143,
   "metadata": {
    "id": "qD9afK3cC2GY"
   },
   "outputs": [],
   "source": [
    "def factorial(n):\n",
    "    if (n < 2): return 1\n",
    "    else: return n*factorial(n-1)"
   ]
  },
  {
   "cell_type": "code",
   "execution_count": 144,
   "metadata": {
    "colab": {
     "base_uri": "https://localhost:8080/"
    },
    "executionInfo": {
     "elapsed": 4,
     "status": "ok",
     "timestamp": 1634726334959,
     "user": {
      "displayName": "Евгения Миллер",
      "photoUrl": "https://lh3.googleusercontent.com/a-/AOh14Gj2X0dQicVOw3_uvDLm2AdkkDjMIUubVj8NCWQ6=s64",
      "userId": "01842992490389353651"
     },
     "user_tz": -180
    },
    "id": "w1WpXrpCCta8",
    "outputId": "a7326cc4-a16d-42f8-b260-5d855a453ad2"
   },
   "outputs": [
    {
     "data": {
      "text/plain": [
       "1"
      ]
     },
     "execution_count": 144,
     "metadata": {},
     "output_type": "execute_result"
    }
   ],
   "source": [
    "factorial(1)"
   ]
  },
  {
   "cell_type": "code",
   "execution_count": 145,
   "metadata": {
    "colab": {
     "base_uri": "https://localhost:8080/"
    },
    "executionInfo": {
     "elapsed": 2,
     "status": "ok",
     "timestamp": 1634726335206,
     "user": {
      "displayName": "Евгения Миллер",
      "photoUrl": "https://lh3.googleusercontent.com/a-/AOh14Gj2X0dQicVOw3_uvDLm2AdkkDjMIUubVj8NCWQ6=s64",
      "userId": "01842992490389353651"
     },
     "user_tz": -180
    },
    "id": "5ZE9XanICvZJ",
    "outputId": "c30d3863-f1be-4044-f4cc-e10195527dcf"
   },
   "outputs": [
    {
     "data": {
      "text/plain": [
       "1"
      ]
     },
     "execution_count": 145,
     "metadata": {},
     "output_type": "execute_result"
    }
   ],
   "source": [
    "factorial(0)"
   ]
  },
  {
   "cell_type": "code",
   "execution_count": 146,
   "metadata": {
    "colab": {
     "base_uri": "https://localhost:8080/"
    },
    "executionInfo": {
     "elapsed": 4,
     "status": "ok",
     "timestamp": 1634726335491,
     "user": {
      "displayName": "Евгения Миллер",
      "photoUrl": "https://lh3.googleusercontent.com/a-/AOh14Gj2X0dQicVOw3_uvDLm2AdkkDjMIUubVj8NCWQ6=s64",
      "userId": "01842992490389353651"
     },
     "user_tz": -180
    },
    "id": "oGZg0EDkCw6H",
    "outputId": "1b99c010-088c-48f1-d47b-df3a81751de8"
   },
   "outputs": [
    {
     "data": {
      "text/plain": [
       "24"
      ]
     },
     "execution_count": 146,
     "metadata": {},
     "output_type": "execute_result"
    }
   ],
   "source": [
    "factorial(4)"
   ]
  },
  {
   "cell_type": "markdown",
   "metadata": {
    "id": "Bit-nevse14o"
   },
   "source": [
    "*Задача 4. Палиндром*\n",
    "\n",
    "Палиндромом называется такое слово (или фраза), которое слева направо и справа налево читается одинаково. Нужно написать рекурсивную функцию, которая будет возвращать `True`, если слово палиндром, и `False`, если нет.\n",
    "\n",
    "Будем считать, что пустая строка также является палиндромом.\n",
    "\n",
    "Решение должно работать на строках без знаков препинания. Проверьте, что функция в последующих ячейках отработала верно.\n",
    "\n"
   ]
  },
  {
   "cell_type": "code",
   "execution_count": 157,
   "metadata": {
    "id": "IHePFicik7Ih"
   },
   "outputs": [],
   "source": [
    "def palindrom(text):\n",
    "    if not text: return True\n",
    "\n",
    "    half1 = text[:len(text)//2]\n",
    "    half2 = text[len(text)//2 + 1:]\n",
    "    \n",
    "    return half1 == half2[::-1]"
   ]
  },
  {
   "cell_type": "code",
   "execution_count": 158,
   "metadata": {
    "colab": {
     "base_uri": "https://localhost:8080/"
    },
    "executionInfo": {
     "elapsed": 240,
     "status": "ok",
     "timestamp": 1634726417021,
     "user": {
      "displayName": "Евгения Миллер",
      "photoUrl": "https://lh3.googleusercontent.com/a-/AOh14Gj2X0dQicVOw3_uvDLm2AdkkDjMIUubVj8NCWQ6=s64",
      "userId": "01842992490389353651"
     },
     "user_tz": -180
    },
    "id": "YAZcDrWRitX6",
    "outputId": "0424530f-c352-4902-b5aa-332603fefcd6"
   },
   "outputs": [
    {
     "data": {
      "text/plain": [
       "True"
      ]
     },
     "execution_count": 158,
     "metadata": {},
     "output_type": "execute_result"
    }
   ],
   "source": [
    "palindrom('saippuakivikauppias')"
   ]
  },
  {
   "cell_type": "code",
   "execution_count": 159,
   "metadata": {
    "colab": {
     "base_uri": "https://localhost:8080/"
    },
    "executionInfo": {
     "elapsed": 18,
     "status": "ok",
     "timestamp": 1634726417360,
     "user": {
      "displayName": "Евгения Миллер",
      "photoUrl": "https://lh3.googleusercontent.com/a-/AOh14Gj2X0dQicVOw3_uvDLm2AdkkDjMIUubVj8NCWQ6=s64",
      "userId": "01842992490389353651"
     },
     "user_tz": -180
    },
    "id": "mGGspj3Fivdk",
    "outputId": "47e70b6d-5b48-46dc-9f9f-75b7ad60b2d1"
   },
   "outputs": [
    {
     "data": {
      "text/plain": [
       "False"
      ]
     },
     "execution_count": 159,
     "metadata": {},
     "output_type": "execute_result"
    }
   ],
   "source": [
    "palindrom('murmur')"
   ]
  },
  {
   "cell_type": "code",
   "execution_count": 160,
   "metadata": {
    "colab": {
     "base_uri": "https://localhost:8080/"
    },
    "executionInfo": {
     "elapsed": 6,
     "status": "ok",
     "timestamp": 1634726418250,
     "user": {
      "displayName": "Евгения Миллер",
      "photoUrl": "https://lh3.googleusercontent.com/a-/AOh14Gj2X0dQicVOw3_uvDLm2AdkkDjMIUubVj8NCWQ6=s64",
      "userId": "01842992490389353651"
     },
     "user_tz": -180
    },
    "id": "5Nw0wTEPiwYV",
    "outputId": "7ee7f468-f42e-4417-faf4-a8a5262614f1"
   },
   "outputs": [
    {
     "data": {
      "text/plain": [
       "False"
      ]
     },
     "execution_count": 160,
     "metadata": {},
     "output_type": "execute_result"
    }
   ],
   "source": [
    "palindrom('В резерв')"
   ]
  },
  {
   "cell_type": "code",
   "execution_count": 161,
   "metadata": {
    "colab": {
     "base_uri": "https://localhost:8080/"
    },
    "executionInfo": {
     "elapsed": 3,
     "status": "ok",
     "timestamp": 1634726418507,
     "user": {
      "displayName": "Евгения Миллер",
      "photoUrl": "https://lh3.googleusercontent.com/a-/AOh14Gj2X0dQicVOw3_uvDLm2AdkkDjMIUubVj8NCWQ6=s64",
      "userId": "01842992490389353651"
     },
     "user_tz": -180
    },
    "id": "Kb9qX0ZDjaWu",
    "outputId": "3cd76a92-48af-48af-cdaa-038d7c219cf8"
   },
   "outputs": [
    {
     "data": {
      "text/plain": [
       "False"
      ]
     },
     "execution_count": 161,
     "metadata": {},
     "output_type": "execute_result"
    }
   ],
   "source": [
    "palindrom('Sator Arepo tenet opera rotas')"
   ]
  },
  {
   "cell_type": "markdown",
   "metadata": {
    "id": "FzHBlVyLDJCI"
   },
   "source": [
    "\n",
    "\n",
    "---\n",
    "\n",
    "\n",
    "\n",
    "---\n",
    "\n"
   ]
  },
  {
   "cell_type": "markdown",
   "metadata": {
    "id": "urJcsE1JDEjB"
   },
   "source": [
    "**Дополнительные задачи**"
   ]
  },
  {
   "cell_type": "markdown",
   "metadata": {
    "id": "VEgXwB5SH0LL"
   },
   "source": [
    "*Задача 5. Количество цифр в числе*\n",
    "\n",
    "Напишите функцию, которая рассчитывает количество цифр в целом числе, приходящем ей на вход.\n",
    "\n",
    "Рассмотрите два способа решения данной задачи: через строковые переменные и без использования строковых переменных.\n",
    "\n",
    "**Пример:**\n",
    "<br>\n",
    "Input: `n = 1234567` \n",
    "<br>\n",
    "Output: `7`"
   ]
  },
  {
   "cell_type": "code",
   "execution_count": 162,
   "metadata": {
    "id": "IOxO5n6dwPWy"
   },
   "outputs": [
    {
     "name": "stdout",
     "output_type": "stream",
     "text": [
      "7\n",
      "7\n"
     ]
    }
   ],
   "source": [
    "n = 1234567\n",
    "\n",
    "print(len(str(n)))\n",
    "\n",
    "count = 0\n",
    "while n>0:\n",
    "   count += 1\n",
    "   n //= 10\n",
    "\n",
    "print(count)"
   ]
  },
  {
   "cell_type": "markdown",
   "metadata": {
    "id": "Uf-63ipMwTrs"
   },
   "source": [
    "*Задача 6. Количество отличников и двоечников*\n",
    "\n",
    "Дан список, в каждом элементе которого лежат оценки за финальный экзамен по русскому языку по одному классу. Найдите количество сдавших (оценка >= 3) и не сдавших (оценка < 3) экзамен в каждом классе, а также выведите результативность класса.\n",
    "\n",
    "Результативность класса считается по следующей логике:\n",
    "* если количество оценок 4 и 5 в классе > 95%, результативность отличная;\n",
    "* если количество оценок 4 и 5 в классе < 30%, результативность плохая;\n",
    "* в остальных случаях результативность средняя.\n",
    "\n",
    "Декомпозируйте задачу с помощью функций. Добавьте возможность менять пороги результативности с помощью входных параметров.\n"
   ]
  },
  {
   "cell_type": "code",
   "execution_count": 167,
   "metadata": {
    "id": "aVeAgJbCyJeP"
   },
   "outputs": [],
   "source": [
    "scores = [\n",
    "          [2, 4, 4, 5, 2, 3, 3, 1, 1],\n",
    "          [3, 4, 2, 3, 3, 1, 5, 2, 4],\n",
    "          [5, 3, 3, 4, 3, 2, 3, 5],\n",
    "          [4, 2, 2, 4, 2],\n",
    "          [4, 3, 3, 3, 3, 3, 3],\n",
    "          [2, 1, 5, 3, 5, 5],\n",
    "          [4, 4, 4, 4, 5, 5],\n",
    "          [4, 1, 3, 4, 1, 1]\n",
    "]"
   ]
  },
  {
   "cell_type": "code",
   "execution_count": 172,
   "metadata": {
    "colab": {
     "base_uri": "https://localhost:8080/"
    },
    "executionInfo": {
     "elapsed": 908,
     "status": "ok",
     "timestamp": 1635106550941,
     "user": {
      "displayName": "Евгения Миллер",
      "photoUrl": "https://lh3.googleusercontent.com/a-/AOh14Gj2X0dQicVOw3_uvDLm2AdkkDjMIUubVj8NCWQ6=s64",
      "userId": "01842992490389353651"
     },
     "user_tz": -180
    },
    "id": "sTzCQqo336Z-",
    "outputId": "a19c62c8-456d-43eb-8cdc-b051c9e6a388"
   },
   "outputs": [
    {
     "name": "stdout",
     "output_type": "stream",
     "text": [
      "Сдавшие: 5, Провалившие: 4, Итог: Удовлетворительно\n",
      "Сдавшие: 6, Провалившие: 3, Итог: Удовлетворительно\n",
      "Сдавшие: 7, Провалившие: 1, Итог: Удовлетворительно\n",
      "Сдавшие: 2, Провалившие: 3, Итог: Удовлетворительно\n",
      "Сдавшие: 7, Провалившие: 0, Итог: Плохо\n",
      "Сдавшие: 4, Провалившие: 2, Итог: Удовлетворительно\n",
      "Сдавшие: 6, Провалившие: 0, Итог: Отлично\n",
      "Сдавшие: 3, Провалившие: 3, Итог: Удовлетворительно\n"
     ]
    }
   ],
   "source": [
    "def get_resultativity(ratio, ratio4ex=0.95, ratio4bad=0.3):\n",
    "    if ratio > ratio4ex: return \"Отлично\"\n",
    "    elif ratio < ratio4bad: return \"Плохо\"\n",
    "    else: return \"Удовлетворительно\"\n",
    "\n",
    "def get_info_for_one(score):\n",
    "    whole = len(score)\n",
    "    passed = sum([grad > 2 for grad in score])\n",
    "    failed = whole - passed\n",
    "    resultativity = get_resultativity(sum([grad > 3 for grad in score]) / whole)\n",
    "\n",
    "    print(f\"Сдавшие: {passed}, Провалившие: {failed}, Итог: {resultativity}\")\n",
    "\n",
    "def get_info(scores):\n",
    "    for score in scores:\n",
    "        get_info_for_one(score)\n",
    "\n",
    "get_info(scores)"
   ]
  },
  {
   "cell_type": "markdown",
   "metadata": {
    "id": "HYOZFVZ6Dz3t"
   },
   "source": [
    "*Задача 7. Калькулятор*\n",
    "\n",
    "На вход в ваш калькулятор из стандартного ввода приходит выражение, в котором есть только числа и операции сложения и умножения.\n",
    "\n",
    "Нужно написать функцию, которая обрабатывает входную строку и выдаёт результат выражения на выходе.\n",
    "\n",
    "Используйте декомпозицию с помощью функций. Проверьте, что последующие ячейки отработали верно.\n",
    "\n",
    "\n"
   ]
  },
  {
   "cell_type": "code",
   "execution_count": 192,
   "metadata": {
    "id": "HAdvG7CVBwv3"
   },
   "outputs": [],
   "source": [
    "# Ваш код здесь\n",
    "def extract_expression(expression):\n",
    "    try:\n",
    "        print(eval(expression))\n",
    "    except ZeroDivisionError:\n",
    "        print(\"чел хорош на 0 делишь\")"
   ]
  },
  {
   "cell_type": "code",
   "execution_count": 186,
   "metadata": {
    "colab": {
     "base_uri": "https://localhost:8080/"
    },
    "executionInfo": {
     "elapsed": 399,
     "status": "ok",
     "timestamp": 1634726766991,
     "user": {
      "displayName": "Евгения Миллер",
      "photoUrl": "https://lh3.googleusercontent.com/a-/AOh14Gj2X0dQicVOw3_uvDLm2AdkkDjMIUubVj8NCWQ6=s64",
      "userId": "01842992490389353651"
     },
     "user_tz": -180
    },
    "id": "IuEVDkewAXs8",
    "outputId": "7ac5117f-cbc4-403b-b731-bb49f577e658"
   },
   "outputs": [
    {
     "name": "stdout",
     "output_type": "stream",
     "text": [
      "811\n"
     ]
    }
   ],
   "source": [
    "expression = '1+2*4*5+7*10*11'\n",
    "extract_expression(expression)"
   ]
  },
  {
   "cell_type": "code",
   "execution_count": 187,
   "metadata": {
    "colab": {
     "base_uri": "https://localhost:8080/"
    },
    "executionInfo": {
     "elapsed": 268,
     "status": "ok",
     "timestamp": 1634726768551,
     "user": {
      "displayName": "Евгения Миллер",
      "photoUrl": "https://lh3.googleusercontent.com/a-/AOh14Gj2X0dQicVOw3_uvDLm2AdkkDjMIUubVj8NCWQ6=s64",
      "userId": "01842992490389353651"
     },
     "user_tz": -180
    },
    "id": "e2M3A0VqAcZM",
    "outputId": "7d0bfb16-927e-4049-effb-627a1c189f7d"
   },
   "outputs": [
    {
     "name": "stdout",
     "output_type": "stream",
     "text": [
      "16\n"
     ]
    }
   ],
   "source": [
    "extract_expression('1+2+3+10')"
   ]
  },
  {
   "cell_type": "code",
   "execution_count": 188,
   "metadata": {
    "colab": {
     "base_uri": "https://localhost:8080/"
    },
    "executionInfo": {
     "elapsed": 4,
     "status": "ok",
     "timestamp": 1634726769460,
     "user": {
      "displayName": "Евгения Миллер",
      "photoUrl": "https://lh3.googleusercontent.com/a-/AOh14Gj2X0dQicVOw3_uvDLm2AdkkDjMIUubVj8NCWQ6=s64",
      "userId": "01842992490389353651"
     },
     "user_tz": -180
    },
    "id": "KexrzLZdCCa6",
    "outputId": "7aa32915-3993-428e-e989-ede347b722f0"
   },
   "outputs": [
    {
     "name": "stdout",
     "output_type": "stream",
     "text": [
      "20\n"
     ]
    }
   ],
   "source": [
    "extract_expression('1*2*10')"
   ]
  },
  {
   "cell_type": "code",
   "execution_count": 193,
   "metadata": {},
   "outputs": [
    {
     "name": "stdout",
     "output_type": "stream",
     "text": [
      "чел хорош на 0 делишь\n"
     ]
    }
   ],
   "source": [
    "extract_expression('1/0')"
   ]
  }
 ],
 "metadata": {
  "colab": {
   "collapsed_sections": [],
   "name": "9.8_Домашнее_задание.ipynb",
   "provenance": []
  },
  "kernelspec": {
   "display_name": "Python 3",
   "name": "python3"
  },
  "language_info": {
   "codemirror_mode": {
    "name": "ipython",
    "version": 3
   },
   "file_extension": ".py",
   "mimetype": "text/x-python",
   "name": "python",
   "nbconvert_exporter": "python",
   "pygments_lexer": "ipython3",
   "version": "3.11.1"
  }
 },
 "nbformat": 4,
 "nbformat_minor": 0
}
