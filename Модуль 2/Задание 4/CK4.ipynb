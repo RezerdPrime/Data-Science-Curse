{
  "cells": [
    {
      "cell_type": "markdown",
      "metadata": {
        "id": "UxKcKjF8qNWZ"
      },
      "source": [
        "\n",
        "# Линейная регрессия. Практическая работа"
      ]
    },
    {
      "cell_type": "markdown",
      "metadata": {
        "id": "_ohvVK9tqXJI"
      },
      "source": [
        "## Цель практической работы\n",
        "\n",
        "Научиться строить модель линейной регрессии на реальных данных."
      ]
    },
    {
      "cell_type": "markdown",
      "metadata": {
        "id": "pTiwLOIHqXRw"
      },
      "source": [
        "## Что входит в практическую работу\n",
        "\n",
        "\n",
        "1. Загрузить данные и ознакомиться с ними.\n",
        "2. Изучить данные и провести анализ.\n",
        "3. Разделить данные на обучающую и тестовую выборки.\n",
        "4. Реализовать построение модели с помощью  библиотеки scikit-learn.\n",
        "5. Получить качество модели с помощью MSE, MAE.\n"
      ]
    },
    {
      "cell_type": "markdown",
      "metadata": {
        "id": "fWl_mCkdqXUG"
      },
      "source": [
        "## Что оценивается \n",
        "\n",
        "* Выполнены все этапы работы.\n",
        "* Сделан вывод по результатам.\n",
        "* Модель не переобучена.\n",
        "* Получена модель хорошего качества."
      ]
    },
    {
      "cell_type": "markdown",
      "metadata": {
        "id": "mQ04nzTSqXWw"
      },
      "source": [
        "## Как отправить работу на проверку\n",
        "\n",
        "Скачайте файл с заданиями в материалах, откройте его через Jupyter Notebook и выполните задачи. Сохраните изменения при помощи опции Save and Checkpoint из вкладки меню File или кнопки Save and Checkpoint на панели инструментов. Отправьте через форму ниже итоговый файл Jupyter Notebook (в формате .ipynb) или ссылку на него.\n",
        "\n"
      ]
    },
    {
      "cell_type": "markdown",
      "metadata": {
        "id": "NkvSJDW6qhe-"
      },
      "source": [
        "## Что нужно сделать\n",
        "\n",
        "Пусть у нас имеется некоторый набор данных `sales.csv` о продажах квартир:\n",
        "\n",
        "- **SalePrice** (цена продажи, *зависимая переменная*).\n",
        "- **GrLivArea** (наземная жилая зона).\n",
        "- **OverallQuality** (общее качество).\n",
        "- **GarageArea** (территория гаража).\n",
        "- **SaleCondition** (условия сделки).\n",
        "\n",
        "Реализуйте построение модели линейной регрессии на этих данных. Проверьте качество модели на обучающей и тестовой выборках с помощью MAE, MSE. Определите, что вы не переобучились."
      ]
    },
    {
      "cell_type": "markdown",
      "metadata": {
        "id": "EMiWw404BPe9"
      },
      "source": [
        "### 1. Импорт библиотек"
      ]
    },
    {
      "cell_type": "code",
      "execution_count": 160,
      "metadata": {
        "id": "tIB3665tpwY5"
      },
      "outputs": [],
      "source": [
        "import numpy as np\n",
        "import pandas as pd\n",
        "import matplotlib.pyplot as plt\n",
        "import seaborn as sns\n",
        "from sklearn.model_selection import train_test_split\n",
        "from sklearn.linear_model import LinearRegression\n",
        "from sklearn.metrics import mean_squared_error as mse, mean_absolute_error as mae\n"
      ]
    },
    {
      "cell_type": "markdown",
      "metadata": {
        "id": "ZWCSzs2aBPfB"
      },
      "source": [
        "### 2. Загрузка данных"
      ]
    },
    {
      "cell_type": "code",
      "execution_count": 161,
      "metadata": {
        "id": "k-IvYesvrbcW"
      },
      "outputs": [
        {
          "data": {
            "application/vnd.microsoft.datawrangler.viewer.v0+json": {
              "columns": [
                {
                  "name": "index",
                  "rawType": "int64",
                  "type": "integer"
                },
                {
                  "name": "SalePrice",
                  "rawType": "int64",
                  "type": "integer"
                },
                {
                  "name": "GrLivArea",
                  "rawType": "int64",
                  "type": "integer"
                },
                {
                  "name": "GarageArea",
                  "rawType": "int64",
                  "type": "integer"
                },
                {
                  "name": "OverallQual",
                  "rawType": "int64",
                  "type": "integer"
                },
                {
                  "name": "Street",
                  "rawType": "object",
                  "type": "string"
                },
                {
                  "name": "SaleCondition",
                  "rawType": "object",
                  "type": "string"
                }
              ],
              "conversionMethod": "pd.DataFrame",
              "ref": "c8383ab0-0438-4194-b2ad-c2db3c5c4faa",
              "rows": [
                [
                  "0",
                  "208500",
                  "1710",
                  "548",
                  "7",
                  "Pave",
                  "Normal"
                ],
                [
                  "1",
                  "181500",
                  "1262",
                  "460",
                  "6",
                  "Pave",
                  "Normal"
                ],
                [
                  "2",
                  "223500",
                  "1786",
                  "608",
                  "7",
                  "Pave",
                  "Normal"
                ],
                [
                  "3",
                  "140000",
                  "1717",
                  "642",
                  "7",
                  "Pave",
                  "Abnorml"
                ],
                [
                  "4",
                  "250000",
                  "2198",
                  "836",
                  "8",
                  "Pave",
                  "Normal"
                ],
                [
                  "5",
                  "143000",
                  "1362",
                  "480",
                  "5",
                  "Pave",
                  "Normal"
                ],
                [
                  "6",
                  "307000",
                  "1694",
                  "636",
                  "8",
                  "Pave",
                  "Normal"
                ],
                [
                  "7",
                  "200000",
                  "2090",
                  "484",
                  "7",
                  "Pave",
                  "Normal"
                ],
                [
                  "8",
                  "129900",
                  "1774",
                  "468",
                  "7",
                  "Pave",
                  "Abnorml"
                ],
                [
                  "9",
                  "118000",
                  "1077",
                  "205",
                  "5",
                  "Pave",
                  "Normal"
                ],
                [
                  "10",
                  "129500",
                  "1040",
                  "384",
                  "5",
                  "Pave",
                  "Normal"
                ],
                [
                  "11",
                  "345000",
                  "2324",
                  "736",
                  "9",
                  "Pave",
                  "Partial"
                ],
                [
                  "12",
                  "144000",
                  "912",
                  "352",
                  "5",
                  "Pave",
                  "Normal"
                ],
                [
                  "13",
                  "279500",
                  "1494",
                  "840",
                  "7",
                  "Pave",
                  "Partial"
                ],
                [
                  "14",
                  "157000",
                  "1253",
                  "352",
                  "6",
                  "Pave",
                  "Normal"
                ],
                [
                  "15",
                  "132000",
                  "854",
                  "576",
                  "7",
                  "Pave",
                  "Normal"
                ],
                [
                  "16",
                  "149000",
                  "1004",
                  "480",
                  "6",
                  "Pave",
                  "Normal"
                ],
                [
                  "17",
                  "90000",
                  "1296",
                  "516",
                  "4",
                  "Pave",
                  "Normal"
                ],
                [
                  "18",
                  "159000",
                  "1114",
                  "576",
                  "5",
                  "Pave",
                  "Normal"
                ],
                [
                  "19",
                  "139000",
                  "1339",
                  "294",
                  "5",
                  "Pave",
                  "Abnorml"
                ],
                [
                  "20",
                  "325300",
                  "2376",
                  "853",
                  "8",
                  "Pave",
                  "Partial"
                ],
                [
                  "21",
                  "139400",
                  "1108",
                  "280",
                  "7",
                  "Pave",
                  "Normal"
                ],
                [
                  "22",
                  "230000",
                  "1795",
                  "534",
                  "8",
                  "Pave",
                  "Normal"
                ],
                [
                  "23",
                  "129900",
                  "1060",
                  "572",
                  "5",
                  "Pave",
                  "Normal"
                ],
                [
                  "24",
                  "154000",
                  "1060",
                  "270",
                  "5",
                  "Pave",
                  "Normal"
                ],
                [
                  "25",
                  "256300",
                  "1600",
                  "890",
                  "8",
                  "Pave",
                  "Normal"
                ],
                [
                  "26",
                  "134800",
                  "900",
                  "576",
                  "5",
                  "Pave",
                  "Normal"
                ],
                [
                  "27",
                  "306000",
                  "1704",
                  "772",
                  "8",
                  "Pave",
                  "Normal"
                ],
                [
                  "28",
                  "207500",
                  "1600",
                  "319",
                  "5",
                  "Pave",
                  "Normal"
                ],
                [
                  "29",
                  "68500",
                  "520",
                  "240",
                  "4",
                  "Pave",
                  "Normal"
                ],
                [
                  "30",
                  "40000",
                  "1317",
                  "250",
                  "4",
                  "Pave",
                  "Normal"
                ],
                [
                  "31",
                  "149350",
                  "1228",
                  "271",
                  "5",
                  "Pave",
                  "Normal"
                ],
                [
                  "32",
                  "179900",
                  "1234",
                  "484",
                  "8",
                  "Pave",
                  "Normal"
                ],
                [
                  "33",
                  "165500",
                  "1700",
                  "447",
                  "5",
                  "Pave",
                  "Normal"
                ],
                [
                  "34",
                  "277500",
                  "1561",
                  "556",
                  "9",
                  "Pave",
                  "Normal"
                ],
                [
                  "35",
                  "309000",
                  "2452",
                  "691",
                  "8",
                  "Pave",
                  "Normal"
                ],
                [
                  "36",
                  "145000",
                  "1097",
                  "672",
                  "5",
                  "Pave",
                  "Normal"
                ],
                [
                  "37",
                  "153000",
                  "1297",
                  "498",
                  "5",
                  "Pave",
                  "Normal"
                ],
                [
                  "38",
                  "109000",
                  "1057",
                  "246",
                  "5",
                  "Pave",
                  "Abnorml"
                ],
                [
                  "39",
                  "82000",
                  "1152",
                  "0",
                  "4",
                  "Pave",
                  "AdjLand"
                ],
                [
                  "40",
                  "160000",
                  "1324",
                  "440",
                  "6",
                  "Pave",
                  "Abnorml"
                ],
                [
                  "41",
                  "170000",
                  "1328",
                  "308",
                  "5",
                  "Pave",
                  "Normal"
                ],
                [
                  "42",
                  "144000",
                  "884",
                  "504",
                  "5",
                  "Pave",
                  "Normal"
                ],
                [
                  "43",
                  "130250",
                  "938",
                  "308",
                  "5",
                  "Pave",
                  "Normal"
                ],
                [
                  "44",
                  "141000",
                  "1150",
                  "300",
                  "5",
                  "Pave",
                  "Normal"
                ],
                [
                  "45",
                  "319900",
                  "1752",
                  "576",
                  "9",
                  "Pave",
                  "Normal"
                ],
                [
                  "46",
                  "239686",
                  "2149",
                  "670",
                  "7",
                  "Pave",
                  "Abnorml"
                ],
                [
                  "47",
                  "249700",
                  "1656",
                  "826",
                  "8",
                  "Pave",
                  "Normal"
                ],
                [
                  "48",
                  "113000",
                  "1452",
                  "0",
                  "4",
                  "Pave",
                  "Partial"
                ],
                [
                  "49",
                  "127000",
                  "955",
                  "386",
                  "5",
                  "Pave",
                  "Normal"
                ]
              ],
              "shape": {
                "columns": 6,
                "rows": 1460
              }
            },
            "text/html": [
              "<div>\n",
              "<style scoped>\n",
              "    .dataframe tbody tr th:only-of-type {\n",
              "        vertical-align: middle;\n",
              "    }\n",
              "\n",
              "    .dataframe tbody tr th {\n",
              "        vertical-align: top;\n",
              "    }\n",
              "\n",
              "    .dataframe thead th {\n",
              "        text-align: right;\n",
              "    }\n",
              "</style>\n",
              "<table border=\"1\" class=\"dataframe\">\n",
              "  <thead>\n",
              "    <tr style=\"text-align: right;\">\n",
              "      <th></th>\n",
              "      <th>SalePrice</th>\n",
              "      <th>GrLivArea</th>\n",
              "      <th>GarageArea</th>\n",
              "      <th>OverallQual</th>\n",
              "      <th>Street</th>\n",
              "      <th>SaleCondition</th>\n",
              "    </tr>\n",
              "  </thead>\n",
              "  <tbody>\n",
              "    <tr>\n",
              "      <th>0</th>\n",
              "      <td>208500</td>\n",
              "      <td>1710</td>\n",
              "      <td>548</td>\n",
              "      <td>7</td>\n",
              "      <td>Pave</td>\n",
              "      <td>Normal</td>\n",
              "    </tr>\n",
              "    <tr>\n",
              "      <th>1</th>\n",
              "      <td>181500</td>\n",
              "      <td>1262</td>\n",
              "      <td>460</td>\n",
              "      <td>6</td>\n",
              "      <td>Pave</td>\n",
              "      <td>Normal</td>\n",
              "    </tr>\n",
              "    <tr>\n",
              "      <th>2</th>\n",
              "      <td>223500</td>\n",
              "      <td>1786</td>\n",
              "      <td>608</td>\n",
              "      <td>7</td>\n",
              "      <td>Pave</td>\n",
              "      <td>Normal</td>\n",
              "    </tr>\n",
              "    <tr>\n",
              "      <th>3</th>\n",
              "      <td>140000</td>\n",
              "      <td>1717</td>\n",
              "      <td>642</td>\n",
              "      <td>7</td>\n",
              "      <td>Pave</td>\n",
              "      <td>Abnorml</td>\n",
              "    </tr>\n",
              "    <tr>\n",
              "      <th>4</th>\n",
              "      <td>250000</td>\n",
              "      <td>2198</td>\n",
              "      <td>836</td>\n",
              "      <td>8</td>\n",
              "      <td>Pave</td>\n",
              "      <td>Normal</td>\n",
              "    </tr>\n",
              "    <tr>\n",
              "      <th>...</th>\n",
              "      <td>...</td>\n",
              "      <td>...</td>\n",
              "      <td>...</td>\n",
              "      <td>...</td>\n",
              "      <td>...</td>\n",
              "      <td>...</td>\n",
              "    </tr>\n",
              "    <tr>\n",
              "      <th>1455</th>\n",
              "      <td>175000</td>\n",
              "      <td>1647</td>\n",
              "      <td>460</td>\n",
              "      <td>6</td>\n",
              "      <td>Pave</td>\n",
              "      <td>Normal</td>\n",
              "    </tr>\n",
              "    <tr>\n",
              "      <th>1456</th>\n",
              "      <td>210000</td>\n",
              "      <td>2073</td>\n",
              "      <td>500</td>\n",
              "      <td>6</td>\n",
              "      <td>Pave</td>\n",
              "      <td>Normal</td>\n",
              "    </tr>\n",
              "    <tr>\n",
              "      <th>1457</th>\n",
              "      <td>266500</td>\n",
              "      <td>2340</td>\n",
              "      <td>252</td>\n",
              "      <td>7</td>\n",
              "      <td>Pave</td>\n",
              "      <td>Normal</td>\n",
              "    </tr>\n",
              "    <tr>\n",
              "      <th>1458</th>\n",
              "      <td>142125</td>\n",
              "      <td>1078</td>\n",
              "      <td>240</td>\n",
              "      <td>5</td>\n",
              "      <td>Pave</td>\n",
              "      <td>Normal</td>\n",
              "    </tr>\n",
              "    <tr>\n",
              "      <th>1459</th>\n",
              "      <td>147500</td>\n",
              "      <td>1256</td>\n",
              "      <td>276</td>\n",
              "      <td>5</td>\n",
              "      <td>Pave</td>\n",
              "      <td>Normal</td>\n",
              "    </tr>\n",
              "  </tbody>\n",
              "</table>\n",
              "<p>1460 rows × 6 columns</p>\n",
              "</div>"
            ],
            "text/plain": [
              "      SalePrice  GrLivArea  GarageArea  OverallQual Street SaleCondition\n",
              "0        208500       1710         548            7   Pave        Normal\n",
              "1        181500       1262         460            6   Pave        Normal\n",
              "2        223500       1786         608            7   Pave        Normal\n",
              "3        140000       1717         642            7   Pave       Abnorml\n",
              "4        250000       2198         836            8   Pave        Normal\n",
              "...         ...        ...         ...          ...    ...           ...\n",
              "1455     175000       1647         460            6   Pave        Normal\n",
              "1456     210000       2073         500            6   Pave        Normal\n",
              "1457     266500       2340         252            7   Pave        Normal\n",
              "1458     142125       1078         240            5   Pave        Normal\n",
              "1459     147500       1256         276            5   Pave        Normal\n",
              "\n",
              "[1460 rows x 6 columns]"
            ]
          },
          "execution_count": 161,
          "metadata": {},
          "output_type": "execute_result"
        }
      ],
      "source": [
        "df = pd.read_csv(\"sales.csv\")\n",
        "df"
      ]
    },
    {
      "cell_type": "markdown",
      "metadata": {
        "id": "4f-uZc_rBPfE"
      },
      "source": [
        "### 3. Первичный анализ\n",
        "\n",
        "1. Проведите анализ данных, посмотрите на индивидуальные графики зависимости целевой функции и отдельной переменной. Нередко, если признаков в выборке не так много, удобно построить [sns.pairplot](https://seaborn.pydata.org/generated/seaborn.pairplot.html).\n",
        "2. Закодируйте категориальные признаки (например, с помощью [pd.get_dummies](https://pandas.pydata.org/docs/reference/api/pandas.get_dummies.html)).\n",
        "3. Подумайте, можно ли здесь создать дополнительные переменные из имеющихся.\n",
        "4. Сделайте предварительные выводы."
      ]
    },
    {
      "cell_type": "code",
      "execution_count": 162,
      "metadata": {
        "id": "7j1gr1MhvWB-"
      },
      "outputs": [
        {
          "name": "stdout",
          "output_type": "stream",
          "text": [
            "<class 'pandas.core.frame.DataFrame'>\n",
            "RangeIndex: 1460 entries, 0 to 1459\n",
            "Data columns (total 6 columns):\n",
            " #   Column         Non-Null Count  Dtype \n",
            "---  ------         --------------  ----- \n",
            " 0   SalePrice      1460 non-null   int64 \n",
            " 1   GrLivArea      1460 non-null   int64 \n",
            " 2   GarageArea     1460 non-null   int64 \n",
            " 3   OverallQual    1460 non-null   int64 \n",
            " 4   Street         1460 non-null   object\n",
            " 5   SaleCondition  1460 non-null   object\n",
            "dtypes: int64(4), object(2)\n",
            "memory usage: 68.6+ KB\n"
          ]
        }
      ],
      "source": [
        "df.info()"
      ]
    },
    {
      "cell_type": "code",
      "execution_count": 163,
      "metadata": {},
      "outputs": [
        {
          "data": {
            "text/plain": [
              "<seaborn.axisgrid.PairGrid at 0x1e31e2e3b10>"
            ]
          },
          "execution_count": 163,
          "metadata": {},
          "output_type": "execute_result"
        },
        {
          "data": {
            "image/png": "[encoded data removed]",
            "text/plain": [
              "<Figure size 1000x1000 with 20 Axes>"
            ]
          },
          "metadata": {},
          "output_type": "display_data"
        }
      ],
      "source": [
        "sns.pairplot(df)"
      ]
    },
    {
      "cell_type": "code",
      "execution_count": 164,
      "metadata": {},
      "outputs": [
        {
          "name": "stderr",
          "output_type": "stream",
          "text": [
            "C:\\Users\\Lenovo\\AppData\\Local\\Temp\\ipykernel_8636\\429045912.py:1: FutureWarning: A value is trying to be set on a copy of a DataFrame or Series through chained assignment using an inplace method.\n",
            "The behavior will change in pandas 3.0. This inplace method will never work because the intermediate object on which we are setting values always behaves as a copy.\n",
            "\n",
            "For example, when doing 'df[col].method(value, inplace=True)', try using 'df.method({col: value}, inplace=True)' or df[col] = df[col].method(value) instead, to perform the operation inplace on the original object.\n",
            "\n",
            "\n",
            "  df.Street.replace(\"Pave\", 1, inplace=True)\n",
            "C:\\Users\\Lenovo\\AppData\\Local\\Temp\\ipykernel_8636\\429045912.py:2: FutureWarning: A value is trying to be set on a copy of a DataFrame or Series through chained assignment using an inplace method.\n",
            "The behavior will change in pandas 3.0. This inplace method will never work because the intermediate object on which we are setting values always behaves as a copy.\n",
            "\n",
            "For example, when doing 'df[col].method(value, inplace=True)', try using 'df.method({col: value}, inplace=True)' or df[col] = df[col].method(value) instead, to perform the operation inplace on the original object.\n",
            "\n",
            "\n",
            "  df.Street.replace(\"Grvl\", 2, inplace=True)\n",
            "C:\\Users\\Lenovo\\AppData\\Local\\Temp\\ipykernel_8636\\429045912.py:2: FutureWarning: Downcasting behavior in `replace` is deprecated and will be removed in a future version. To retain the old behavior, explicitly call `result.infer_objects(copy=False)`. To opt-in to the future behavior, set `pd.set_option('future.no_silent_downcasting', True)`\n",
            "  df.Street.replace(\"Grvl\", 2, inplace=True)\n"
          ]
        },
        {
          "data": {
            "text/plain": [
              "0       1\n",
              "1       1\n",
              "2       1\n",
              "3       1\n",
              "4       1\n",
              "       ..\n",
              "1455    1\n",
              "1456    1\n",
              "1457    1\n",
              "1458    1\n",
              "1459    1\n",
              "Name: Street, Length: 1460, dtype: int64"
            ]
          },
          "execution_count": 164,
          "metadata": {},
          "output_type": "execute_result"
        }
      ],
      "source": [
        "df.Street.replace(\"Pave\", 1, inplace=True)\n",
        "df.Street.replace(\"Grvl\", 2, inplace=True)\n",
        "\n",
        "df.Street"
      ]
    },
    {
      "cell_type": "code",
      "execution_count": 165,
      "metadata": {},
      "outputs": [
        {
          "name": "stderr",
          "output_type": "stream",
          "text": [
            "C:\\Users\\Lenovo\\AppData\\Local\\Temp\\ipykernel_8636\\3408643375.py:4: FutureWarning: A value is trying to be set on a copy of a DataFrame or Series through chained assignment using an inplace method.\n",
            "The behavior will change in pandas 3.0. This inplace method will never work because the intermediate object on which we are setting values always behaves as a copy.\n",
            "\n",
            "For example, when doing 'df[col].method(value, inplace=True)', try using 'df.method({col: value}, inplace=True)' or df[col] = df[col].method(value) instead, to perform the operation inplace on the original object.\n",
            "\n",
            "\n",
            "  df.SaleCondition.replace(unik[i], i, inplace=True)\n",
            "C:\\Users\\Lenovo\\AppData\\Local\\Temp\\ipykernel_8636\\3408643375.py:4: FutureWarning: Downcasting behavior in `replace` is deprecated and will be removed in a future version. To retain the old behavior, explicitly call `result.infer_objects(copy=False)`. To opt-in to the future behavior, set `pd.set_option('future.no_silent_downcasting', True)`\n",
            "  df.SaleCondition.replace(unik[i], i, inplace=True)\n"
          ]
        }
      ],
      "source": [
        "unik = df.SaleCondition.unique()\n",
        "\n",
        "for i in range(len(unik)):\n",
        "    df.SaleCondition.replace(unik[i], i, inplace=True)\n",
        "\n",
        "df.SaleCondition\n",
        "\n",
        "\n",
        "df.SalePrice = (df.SalePrice - df.SalePrice.min()) / (df.SalePrice.max() - df.SalePrice.min())\n",
        "df.GrLivArea = (df.GrLivArea - df.GrLivArea.min()) / (df.GrLivArea.max() - df.GrLivArea.min())\n",
        "df.GarageArea = (df.GarageArea - df.GarageArea.min()) / (df.GarageArea.max() - df.GarageArea.min())"
      ]
    },
    {
      "cell_type": "code",
      "execution_count": 166,
      "metadata": {},
      "outputs": [
        {
          "data": {
            "application/vnd.microsoft.datawrangler.viewer.v0+json": {
              "columns": [
                {
                  "name": "index",
                  "rawType": "int64",
                  "type": "integer"
                },
                {
                  "name": "SalePrice",
                  "rawType": "float64",
                  "type": "float"
                },
                {
                  "name": "GrLivArea",
                  "rawType": "float64",
                  "type": "float"
                },
                {
                  "name": "GarageArea",
                  "rawType": "float64",
                  "type": "float"
                },
                {
                  "name": "OverallQual",
                  "rawType": "int64",
                  "type": "integer"
                },
                {
                  "name": "Street",
                  "rawType": "int64",
                  "type": "integer"
                },
                {
                  "name": "SaleCondition",
                  "rawType": "int64",
                  "type": "integer"
                }
              ],
              "conversionMethod": "pd.DataFrame",
              "ref": "87592fd2-26f9-4aa8-80a9-c838d413de73",
              "rows": [
                [
                  "0",
                  "0.24107762810720734",
                  "0.2592313489073097",
                  "0.38645980253878703",
                  "7",
                  "1",
                  "0"
                ],
                [
                  "1",
                  "0.2035828357172615",
                  "0.17483044461190655",
                  "0.3244005641748942",
                  "6",
                  "1",
                  "0"
                ],
                [
                  "2",
                  "0.2619080683238439",
                  "0.27354935945742276",
                  "0.4287729196050776",
                  "7",
                  "1",
                  "0"
                ],
                [
                  "3",
                  "0.1459519511179003",
                  "0.2605501130369254",
                  "0.4527503526093089",
                  "7",
                  "1",
                  "1"
                ],
                [
                  "4",
                  "0.2987085127065685",
                  "0.35116804822908815",
                  "0.5895627644569816",
                  "8",
                  "1",
                  "0"
                ],
                [
                  "5",
                  "0.1501180391612276",
                  "0.19366993217784476",
                  "0.3385049365303244",
                  "5",
                  "1",
                  "0"
                ],
                [
                  "6",
                  "0.3778641855297875",
                  "0.2562170308967596",
                  "0.44851904090267986",
                  "8",
                  "1",
                  "0"
                ],
                [
                  "7",
                  "0.2292737119844466",
                  "0.3308214016578749",
                  "0.34132581100141046",
                  "7",
                  "1",
                  "0"
                ],
                [
                  "8",
                  "0.13192612137203166",
                  "0.2712886209495102",
                  "0.3300423131170663",
                  "7",
                  "1",
                  "1"
                ],
                [
                  "9",
                  "0.11540063880016664",
                  "0.13997739261492087",
                  "0.14456981664315938",
                  "5",
                  "1",
                  "0"
                ],
                [
                  "10",
                  "0.1313706429662547",
                  "0.13300678221552373",
                  "0.27080394922425954",
                  "5",
                  "1",
                  "0"
                ],
                [
                  "11",
                  "0.4306346340786002",
                  "0.3749058025621703",
                  "0.5190409026798307",
                  "9",
                  "1",
                  "2"
                ],
                [
                  "12",
                  "0.15150673517567004",
                  "0.10889223813112284",
                  "0.24823695345557123",
                  "5",
                  "1",
                  "0"
                ],
                [
                  "13",
                  "0.3396750451326205",
                  "0.2185380557648832",
                  "0.5923836389280677",
                  "7",
                  "1",
                  "2"
                ],
                [
                  "14",
                  "0.16955978336342176",
                  "0.17313489073097213",
                  "0.24823695345557123",
                  "6",
                  "1",
                  "0"
                ],
                [
                  "15",
                  "0.1348423830023608",
                  "0.09796533534287867",
                  "0.40620592383638926",
                  "7",
                  "1",
                  "0"
                ],
                [
                  "16",
                  "0.15845021524788225",
                  "0.12622456669178597",
                  "0.3385049365303244",
                  "6",
                  "1",
                  "0"
                ],
                [
                  "17",
                  "0.07651715039577836",
                  "0.18123587038432554",
                  "0.3638928067700987",
                  "4",
                  "1",
                  "0"
                ],
                [
                  "18",
                  "0.1723371753923066",
                  "0.146948003014318",
                  "0.40620592383638926",
                  "5",
                  "1",
                  "0"
                ],
                [
                  "19",
                  "0.14456325510345786",
                  "0.18933685003767897",
                  "0.2073342736248237",
                  "5",
                  "1",
                  "1"
                ],
                [
                  "20",
                  "0.40327732259408416",
                  "0.38470233609645815",
                  "0.6015514809590973",
                  "8",
                  "1",
                  "2"
                ],
                [
                  "21",
                  "0.14511873350923482",
                  "0.14581763376036172",
                  "0.19746121297602257",
                  "7",
                  "1",
                  "0"
                ],
                [
                  "22",
                  "0.2709345924177198",
                  "0.2752449133383572",
                  "0.3765867418899859",
                  "8",
                  "1",
                  "0"
                ],
                [
                  "23",
                  "0.13192612137203166",
                  "0.13677467972871138",
                  "0.4033850493653032",
                  "5",
                  "1",
                  "0"
                ],
                [
                  "24",
                  "0.16539369532009443",
                  "0.13677467972871138",
                  "0.19040902679830748",
                  "5",
                  "1",
                  "0"
                ],
                [
                  "25",
                  "0.3074572975975559",
                  "0.2385079125847777",
                  "0.6276445698166432",
                  "8",
                  "1",
                  "0"
                ],
                [
                  "26",
                  "0.1387307318427996",
                  "0.10663149962321025",
                  "0.40620592383638926",
                  "5",
                  "1",
                  "0"
                ],
                [
                  "27",
                  "0.3764754895153451",
                  "0.25810097965335344",
                  "0.5444287729196051",
                  "8",
                  "1",
                  "0"
                ],
                [
                  "28",
                  "0.2396889320927649",
                  "0.2385079125847777",
                  "0.22496473906911144",
                  "5",
                  "1",
                  "0"
                ],
                [
                  "29",
                  "0.04666018608526593",
                  "0.035041446872645064",
                  "0.1692524682651622",
                  "4",
                  "1",
                  "0"
                ],
                [
                  "30",
                  "0.007082349673656437",
                  "0.18519216277317258",
                  "0.1763046544428773",
                  "4",
                  "1",
                  "0"
                ],
                [
                  "31",
                  "0.15893625885293708",
                  "0.16842501883948757",
                  "0.191114245416079",
                  "5",
                  "1",
                  "0"
                ],
                [
                  "32",
                  "0.2013609220941536",
                  "0.16955538809344387",
                  "0.34132581100141046",
                  "8",
                  "1",
                  "0"
                ],
                [
                  "33",
                  "0.18136369948618247",
                  "0.2573474001507159",
                  "0.3152327221438646",
                  "5",
                  "1",
                  "0"
                ],
                [
                  "34",
                  "0.3368976531037356",
                  "0.2311605124340618",
                  "0.3921015514809591",
                  "9",
                  "1",
                  "0"
                ],
                [
                  "35",
                  "0.3806415775586724",
                  "0.3990203466465712",
                  "0.48730606488011285",
                  "8",
                  "1",
                  "0"
                ],
                [
                  "36",
                  "0.15289543119011248",
                  "0.14374529012810852",
                  "0.47390691114245415",
                  "5",
                  "1",
                  "0"
                ],
                [
                  "37",
                  "0.164004999305652",
                  "0.18142426525998492",
                  "0.3511988716502116",
                  "5",
                  "1",
                  "0"
                ],
                [
                  "38",
                  "0.10290237467018469",
                  "0.13620949510173325",
                  "0.17348377997179126",
                  "5",
                  "1",
                  "1"
                ],
                [
                  "39",
                  "0.06540758228023885",
                  "0.15410700828937454",
                  "0.0",
                  "4",
                  "1",
                  "3"
                ],
                [
                  "40",
                  "0.17372587140674906",
                  "0.18651092690278825",
                  "0.31029619181946405",
                  "6",
                  "1",
                  "1"
                ],
                [
                  "41",
                  "0.18761283155117345",
                  "0.18726450640542577",
                  "0.21720733427362482",
                  "5",
                  "1",
                  "0"
                ],
                [
                  "42",
                  "0.15150673517567004",
                  "0.10361718161266013",
                  "0.3554301833568406",
                  "5",
                  "1",
                  "0"
                ],
                [
                  "43",
                  "0.13241216497708652",
                  "0.11379050489826677",
                  "0.21720733427362482",
                  "5",
                  "1",
                  "0"
                ],
                [
                  "44",
                  "0.14734064713234274",
                  "0.15373021853805577",
                  "0.21156558533145275",
                  "5",
                  "1",
                  "0"
                ],
                [
                  "45",
                  "0.39577836411609496",
                  "0.2671439336850038",
                  "0.40620592383638926",
                  "9",
                  "1",
                  "0"
                ],
                [
                  "46",
                  "0.28438550201360924",
                  "0.34193669932177845",
                  "0.47249647390691113",
                  "7",
                  "1",
                  "1"
                ],
                [
                  "47",
                  "0.2982919039022358",
                  "0.2490580256217031",
                  "0.5825105782792666",
                  "8",
                  "1",
                  "0"
                ],
                [
                  "48",
                  "0.10845715872795444",
                  "0.21062547098718915",
                  "0.0",
                  "4",
                  "1",
                  "2"
                ],
                [
                  "49",
                  "0.12789890293014858",
                  "0.11699321778447626",
                  "0.27221438645980256",
                  "5",
                  "1",
                  "0"
                ]
              ],
              "shape": {
                "columns": 6,
                "rows": 1460
              }
            },
            "text/html": [
              "<div>\n",
              "<style scoped>\n",
              "    .dataframe tbody tr th:only-of-type {\n",
              "        vertical-align: middle;\n",
              "    }\n",
              "\n",
              "    .dataframe tbody tr th {\n",
              "        vertical-align: top;\n",
              "    }\n",
              "\n",
              "    .dataframe thead th {\n",
              "        text-align: right;\n",
              "    }\n",
              "</style>\n",
              "<table border=\"1\" class=\"dataframe\">\n",
              "  <thead>\n",
              "    <tr style=\"text-align: right;\">\n",
              "      <th></th>\n",
              "      <th>SalePrice</th>\n",
              "      <th>GrLivArea</th>\n",
              "      <th>GarageArea</th>\n",
              "      <th>OverallQual</th>\n",
              "      <th>Street</th>\n",
              "      <th>SaleCondition</th>\n",
              "    </tr>\n",
              "  </thead>\n",
              "  <tbody>\n",
              "    <tr>\n",
              "      <th>0</th>\n",
              "      <td>0.241078</td>\n",
              "      <td>0.259231</td>\n",
              "      <td>0.386460</td>\n",
              "      <td>7</td>\n",
              "      <td>1</td>\n",
              "      <td>0</td>\n",
              "    </tr>\n",
              "    <tr>\n",
              "      <th>1</th>\n",
              "      <td>0.203583</td>\n",
              "      <td>0.174830</td>\n",
              "      <td>0.324401</td>\n",
              "      <td>6</td>\n",
              "      <td>1</td>\n",
              "      <td>0</td>\n",
              "    </tr>\n",
              "    <tr>\n",
              "      <th>2</th>\n",
              "      <td>0.261908</td>\n",
              "      <td>0.273549</td>\n",
              "      <td>0.428773</td>\n",
              "      <td>7</td>\n",
              "      <td>1</td>\n",
              "      <td>0</td>\n",
              "    </tr>\n",
              "    <tr>\n",
              "      <th>3</th>\n",
              "      <td>0.145952</td>\n",
              "      <td>0.260550</td>\n",
              "      <td>0.452750</td>\n",
              "      <td>7</td>\n",
              "      <td>1</td>\n",
              "      <td>1</td>\n",
              "    </tr>\n",
              "    <tr>\n",
              "      <th>4</th>\n",
              "      <td>0.298709</td>\n",
              "      <td>0.351168</td>\n",
              "      <td>0.589563</td>\n",
              "      <td>8</td>\n",
              "      <td>1</td>\n",
              "      <td>0</td>\n",
              "    </tr>\n",
              "    <tr>\n",
              "      <th>...</th>\n",
              "      <td>...</td>\n",
              "      <td>...</td>\n",
              "      <td>...</td>\n",
              "      <td>...</td>\n",
              "      <td>...</td>\n",
              "      <td>...</td>\n",
              "    </tr>\n",
              "    <tr>\n",
              "      <th>1455</th>\n",
              "      <td>0.194556</td>\n",
              "      <td>0.247362</td>\n",
              "      <td>0.324401</td>\n",
              "      <td>6</td>\n",
              "      <td>1</td>\n",
              "      <td>0</td>\n",
              "    </tr>\n",
              "    <tr>\n",
              "      <th>1456</th>\n",
              "      <td>0.243161</td>\n",
              "      <td>0.327619</td>\n",
              "      <td>0.352609</td>\n",
              "      <td>6</td>\n",
              "      <td>1</td>\n",
              "      <td>0</td>\n",
              "    </tr>\n",
              "    <tr>\n",
              "      <th>1457</th>\n",
              "      <td>0.321622</td>\n",
              "      <td>0.377920</td>\n",
              "      <td>0.177715</td>\n",
              "      <td>7</td>\n",
              "      <td>1</td>\n",
              "      <td>0</td>\n",
              "    </tr>\n",
              "    <tr>\n",
              "      <th>1458</th>\n",
              "      <td>0.148903</td>\n",
              "      <td>0.140166</td>\n",
              "      <td>0.169252</td>\n",
              "      <td>5</td>\n",
              "      <td>1</td>\n",
              "      <td>0</td>\n",
              "    </tr>\n",
              "    <tr>\n",
              "      <th>1459</th>\n",
              "      <td>0.156367</td>\n",
              "      <td>0.173700</td>\n",
              "      <td>0.194640</td>\n",
              "      <td>5</td>\n",
              "      <td>1</td>\n",
              "      <td>0</td>\n",
              "    </tr>\n",
              "  </tbody>\n",
              "</table>\n",
              "<p>1460 rows × 6 columns</p>\n",
              "</div>"
            ],
            "text/plain": [
              "      SalePrice  GrLivArea  GarageArea  OverallQual  Street  SaleCondition\n",
              "0      0.241078   0.259231    0.386460            7       1              0\n",
              "1      0.203583   0.174830    0.324401            6       1              0\n",
              "2      0.261908   0.273549    0.428773            7       1              0\n",
              "3      0.145952   0.260550    0.452750            7       1              1\n",
              "4      0.298709   0.351168    0.589563            8       1              0\n",
              "...         ...        ...         ...          ...     ...            ...\n",
              "1455   0.194556   0.247362    0.324401            6       1              0\n",
              "1456   0.243161   0.327619    0.352609            6       1              0\n",
              "1457   0.321622   0.377920    0.177715            7       1              0\n",
              "1458   0.148903   0.140166    0.169252            5       1              0\n",
              "1459   0.156367   0.173700    0.194640            5       1              0\n",
              "\n",
              "[1460 rows x 6 columns]"
            ]
          },
          "execution_count": 166,
          "metadata": {},
          "output_type": "execute_result"
        }
      ],
      "source": [
        "df"
      ]
    },
    {
      "cell_type": "markdown",
      "metadata": {
        "id": "pu4cFGblBPfG"
      },
      "source": [
        "### 4. Разделение на обучающую и тестовую выборки"
      ]
    },
    {
      "cell_type": "code",
      "execution_count": 167,
      "metadata": {
        "id": "Ba7fXJU_wOJ9"
      },
      "outputs": [],
      "source": [
        "y = df[[\"SalePrice\"]]\n",
        "x = df[[\"GrLivArea\"]]\n",
        "x_train, x_test, y_train, y_test = train_test_split(x, y, train_size=0.7)"
      ]
    },
    {
      "cell_type": "markdown",
      "metadata": {
        "id": "s5zxLft5BPfH"
      },
      "source": [
        "### 5. Обучение модели линейной регрессии\n",
        "\n",
        "Дополнительно можно взглянуть на коэффициенты и смещение обученной модели."
      ]
    },
    {
      "cell_type": "code",
      "execution_count": 168,
      "metadata": {},
      "outputs": [
        {
          "data": {
            "text/html": [
              "<style>#sk-container-id-12 {\n",
              "  /* Definition of color scheme common for light and dark mode */\n",
              "  --sklearn-color-text: black;\n",
              "  --sklearn-color-line: gray;\n",
              "  /* Definition of color scheme for unfitted estimators */\n",
              "  --sklearn-color-unfitted-level-0: #fff5e6;\n",
              "  --sklearn-color-unfitted-level-1: #f6e4d2;\n",
              "  --sklearn-color-unfitted-level-2: #ffe0b3;\n",
              "  --sklearn-color-unfitted-level-3: chocolate;\n",
              "  /* Definition of color scheme for fitted estimators */\n",
              "  --sklearn-color-fitted-level-0: #f0f8ff;\n",
              "  --sklearn-color-fitted-level-1: #d4ebff;\n",
              "  --sklearn-color-fitted-level-2: #b3dbfd;\n",
              "  --sklearn-color-fitted-level-3: cornflowerblue;\n",
              "\n",
              "  /* Specific color for light theme */\n",
              "  --sklearn-color-text-on-default-background: var(--sg-text-color, var(--theme-code-foreground, var(--jp-content-font-color1, black)));\n",
              "  --sklearn-color-background: var(--sg-background-color, var(--theme-background, var(--jp-layout-color0, white)));\n",
              "  --sklearn-color-border-box: var(--sg-text-color, var(--theme-code-foreground, var(--jp-content-font-color1, black)));\n",
              "  --sklearn-color-icon: #696969;\n",
              "\n",
              "  @media (prefers-color-scheme: dark) {\n",
              "    /* Redefinition of color scheme for dark theme */\n",
              "    --sklearn-color-text-on-default-background: var(--sg-text-color, var(--theme-code-foreground, var(--jp-content-font-color1, white)));\n",
              "    --sklearn-color-background: var(--sg-background-color, var(--theme-background, var(--jp-layout-color0, #111)));\n",
              "    --sklearn-color-border-box: var(--sg-text-color, var(--theme-code-foreground, var(--jp-content-font-color1, white)));\n",
              "    --sklearn-color-icon: #878787;\n",
              "  }\n",
              "}\n",
              "\n",
              "#sk-container-id-12 {\n",
              "  color: var(--sklearn-color-text);\n",
              "}\n",
              "\n",
              "#sk-container-id-12 pre {\n",
              "  padding: 0;\n",
              "}\n",
              "\n",
              "#sk-container-id-12 input.sk-hidden--visually {\n",
              "  border: 0;\n",
              "  clip: rect(1px 1px 1px 1px);\n",
              "  clip: rect(1px, 1px, 1px, 1px);\n",
              "  height: 1px;\n",
              "  margin: -1px;\n",
              "  overflow: hidden;\n",
              "  padding: 0;\n",
              "  position: absolute;\n",
              "  width: 1px;\n",
              "}\n",
              "\n",
              "#sk-container-id-12 div.sk-dashed-wrapped {\n",
              "  border: 1px dashed var(--sklearn-color-line);\n",
              "  margin: 0 0.4em 0.5em 0.4em;\n",
              "  box-sizing: border-box;\n",
              "  padding-bottom: 0.4em;\n",
              "  background-color: var(--sklearn-color-background);\n",
              "}\n",
              "\n",
              "#sk-container-id-12 div.sk-container {\n",
              "  /* jupyter's `normalize.less` sets `[hidden] { display: none; }`\n",
              "     but bootstrap.min.css set `[hidden] { display: none !important; }`\n",
              "     so we also need the `!important` here to be able to override the\n",
              "     default hidden behavior on the sphinx rendered scikit-learn.org.\n",
              "     See: https://github.com/scikit-learn/scikit-learn/issues/21755 */\n",
              "  display: inline-block !important;\n",
              "  position: relative;\n",
              "}\n",
              "\n",
              "#sk-container-id-12 div.sk-text-repr-fallback {\n",
              "  display: none;\n",
              "}\n",
              "\n",
              "div.sk-parallel-item,\n",
              "div.sk-serial,\n",
              "div.sk-item {\n",
              "  /* draw centered vertical line to link estimators */\n",
              "  background-image: linear-gradient(var(--sklearn-color-text-on-default-background), var(--sklearn-color-text-on-default-background));\n",
              "  background-size: 2px 100%;\n",
              "  background-repeat: no-repeat;\n",
              "  background-position: center center;\n",
              "}\n",
              "\n",
              "/* Parallel-specific style estimator block */\n",
              "\n",
              "#sk-container-id-12 div.sk-parallel-item::after {\n",
              "  content: \"\";\n",
              "  width: 100%;\n",
              "  border-bottom: 2px solid var(--sklearn-color-text-on-default-background);\n",
              "  flex-grow: 1;\n",
              "}\n",
              "\n",
              "#sk-container-id-12 div.sk-parallel {\n",
              "  display: flex;\n",
              "  align-items: stretch;\n",
              "  justify-content: center;\n",
              "  background-color: var(--sklearn-color-background);\n",
              "  position: relative;\n",
              "}\n",
              "\n",
              "#sk-container-id-12 div.sk-parallel-item {\n",
              "  display: flex;\n",
              "  flex-direction: column;\n",
              "}\n",
              "\n",
              "#sk-container-id-12 div.sk-parallel-item:first-child::after {\n",
              "  align-self: flex-end;\n",
              "  width: 50%;\n",
              "}\n",
              "\n",
              "#sk-container-id-12 div.sk-parallel-item:last-child::after {\n",
              "  align-self: flex-start;\n",
              "  width: 50%;\n",
              "}\n",
              "\n",
              "#sk-container-id-12 div.sk-parallel-item:only-child::after {\n",
              "  width: 0;\n",
              "}\n",
              "\n",
              "/* Serial-specific style estimator block */\n",
              "\n",
              "#sk-container-id-12 div.sk-serial {\n",
              "  display: flex;\n",
              "  flex-direction: column;\n",
              "  align-items: center;\n",
              "  background-color: var(--sklearn-color-background);\n",
              "  padding-right: 1em;\n",
              "  padding-left: 1em;\n",
              "}\n",
              "\n",
              "\n",
              "/* Toggleable style: style used for estimator/Pipeline/ColumnTransformer box that is\n",
              "clickable and can be expanded/collapsed.\n",
              "- Pipeline and ColumnTransformer use this feature and define the default style\n",
              "- Estimators will overwrite some part of the style using the `sk-estimator` class\n",
              "*/\n",
              "\n",
              "/* Pipeline and ColumnTransformer style (default) */\n",
              "\n",
              "#sk-container-id-12 div.sk-toggleable {\n",
              "  /* Default theme specific background. It is overwritten whether we have a\n",
              "  specific estimator or a Pipeline/ColumnTransformer */\n",
              "  background-color: var(--sklearn-color-background);\n",
              "}\n",
              "\n",
              "/* Toggleable label */\n",
              "#sk-container-id-12 label.sk-toggleable__label {\n",
              "  cursor: pointer;\n",
              "  display: block;\n",
              "  width: 100%;\n",
              "  margin-bottom: 0;\n",
              "  padding: 0.5em;\n",
              "  box-sizing: border-box;\n",
              "  text-align: center;\n",
              "}\n",
              "\n",
              "#sk-container-id-12 label.sk-toggleable__label-arrow:before {\n",
              "  /* Arrow on the left of the label */\n",
              "  content: \"▸\";\n",
              "  float: left;\n",
              "  margin-right: 0.25em;\n",
              "  color: var(--sklearn-color-icon);\n",
              "}\n",
              "\n",
              "#sk-container-id-12 label.sk-toggleable__label-arrow:hover:before {\n",
              "  color: var(--sklearn-color-text);\n",
              "}\n",
              "\n",
              "/* Toggleable content - dropdown */\n",
              "\n",
              "#sk-container-id-12 div.sk-toggleable__content {\n",
              "  max-height: 0;\n",
              "  max-width: 0;\n",
              "  overflow: hidden;\n",
              "  text-align: left;\n",
              "  /* unfitted */\n",
              "  background-color: var(--sklearn-color-unfitted-level-0);\n",
              "}\n",
              "\n",
              "#sk-container-id-12 div.sk-toggleable__content.fitted {\n",
              "  /* fitted */\n",
              "  background-color: var(--sklearn-color-fitted-level-0);\n",
              "}\n",
              "\n",
              "#sk-container-id-12 div.sk-toggleable__content pre {\n",
              "  margin: 0.2em;\n",
              "  border-radius: 0.25em;\n",
              "  color: var(--sklearn-color-text);\n",
              "  /* unfitted */\n",
              "  background-color: var(--sklearn-color-unfitted-level-0);\n",
              "}\n",
              "\n",
              "#sk-container-id-12 div.sk-toggleable__content.fitted pre {\n",
              "  /* unfitted */\n",
              "  background-color: var(--sklearn-color-fitted-level-0);\n",
              "}\n",
              "\n",
              "#sk-container-id-12 input.sk-toggleable__control:checked~div.sk-toggleable__content {\n",
              "  /* Expand drop-down */\n",
              "  max-height: 200px;\n",
              "  max-width: 100%;\n",
              "  overflow: auto;\n",
              "}\n",
              "\n",
              "#sk-container-id-12 input.sk-toggleable__control:checked~label.sk-toggleable__label-arrow:before {\n",
              "  content: \"▾\";\n",
              "}\n",
              "\n",
              "/* Pipeline/ColumnTransformer-specific style */\n",
              "\n",
              "#sk-container-id-12 div.sk-label input.sk-toggleable__control:checked~label.sk-toggleable__label {\n",
              "  color: var(--sklearn-color-text);\n",
              "  background-color: var(--sklearn-color-unfitted-level-2);\n",
              "}\n",
              "\n",
              "#sk-container-id-12 div.sk-label.fitted input.sk-toggleable__control:checked~label.sk-toggleable__label {\n",
              "  background-color: var(--sklearn-color-fitted-level-2);\n",
              "}\n",
              "\n",
              "/* Estimator-specific style */\n",
              "\n",
              "/* Colorize estimator box */\n",
              "#sk-container-id-12 div.sk-estimator input.sk-toggleable__control:checked~label.sk-toggleable__label {\n",
              "  /* unfitted */\n",
              "  background-color: var(--sklearn-color-unfitted-level-2);\n",
              "}\n",
              "\n",
              "#sk-container-id-12 div.sk-estimator.fitted input.sk-toggleable__control:checked~label.sk-toggleable__label {\n",
              "  /* fitted */\n",
              "  background-color: var(--sklearn-color-fitted-level-2);\n",
              "}\n",
              "\n",
              "#sk-container-id-12 div.sk-label label.sk-toggleable__label,\n",
              "#sk-container-id-12 div.sk-label label {\n",
              "  /* The background is the default theme color */\n",
              "  color: var(--sklearn-color-text-on-default-background);\n",
              "}\n",
              "\n",
              "/* On hover, darken the color of the background */\n",
              "#sk-container-id-12 div.sk-label:hover label.sk-toggleable__label {\n",
              "  color: var(--sklearn-color-text);\n",
              "  background-color: var(--sklearn-color-unfitted-level-2);\n",
              "}\n",
              "\n",
              "/* Label box, darken color on hover, fitted */\n",
              "#sk-container-id-12 div.sk-label.fitted:hover label.sk-toggleable__label.fitted {\n",
              "  color: var(--sklearn-color-text);\n",
              "  background-color: var(--sklearn-color-fitted-level-2);\n",
              "}\n",
              "\n",
              "/* Estimator label */\n",
              "\n",
              "#sk-container-id-12 div.sk-label label {\n",
              "  font-family: monospace;\n",
              "  font-weight: bold;\n",
              "  display: inline-block;\n",
              "  line-height: 1.2em;\n",
              "}\n",
              "\n",
              "#sk-container-id-12 div.sk-label-container {\n",
              "  text-align: center;\n",
              "}\n",
              "\n",
              "/* Estimator-specific */\n",
              "#sk-container-id-12 div.sk-estimator {\n",
              "  font-family: monospace;\n",
              "  border: 1px dotted var(--sklearn-color-border-box);\n",
              "  border-radius: 0.25em;\n",
              "  box-sizing: border-box;\n",
              "  margin-bottom: 0.5em;\n",
              "  /* unfitted */\n",
              "  background-color: var(--sklearn-color-unfitted-level-0);\n",
              "}\n",
              "\n",
              "#sk-container-id-12 div.sk-estimator.fitted {\n",
              "  /* fitted */\n",
              "  background-color: var(--sklearn-color-fitted-level-0);\n",
              "}\n",
              "\n",
              "/* on hover */\n",
              "#sk-container-id-12 div.sk-estimator:hover {\n",
              "  /* unfitted */\n",
              "  background-color: var(--sklearn-color-unfitted-level-2);\n",
              "}\n",
              "\n",
              "#sk-container-id-12 div.sk-estimator.fitted:hover {\n",
              "  /* fitted */\n",
              "  background-color: var(--sklearn-color-fitted-level-2);\n",
              "}\n",
              "\n",
              "/* Specification for estimator info (e.g. \"i\" and \"?\") */\n",
              "\n",
              "/* Common style for \"i\" and \"?\" */\n",
              "\n",
              ".sk-estimator-doc-link,\n",
              "a:link.sk-estimator-doc-link,\n",
              "a:visited.sk-estimator-doc-link {\n",
              "  float: right;\n",
              "  font-size: smaller;\n",
              "  line-height: 1em;\n",
              "  font-family: monospace;\n",
              "  background-color: var(--sklearn-color-background);\n",
              "  border-radius: 1em;\n",
              "  height: 1em;\n",
              "  width: 1em;\n",
              "  text-decoration: none !important;\n",
              "  margin-left: 1ex;\n",
              "  /* unfitted */\n",
              "  border: var(--sklearn-color-unfitted-level-1) 1pt solid;\n",
              "  color: var(--sklearn-color-unfitted-level-1);\n",
              "}\n",
              "\n",
              ".sk-estimator-doc-link.fitted,\n",
              "a:link.sk-estimator-doc-link.fitted,\n",
              "a:visited.sk-estimator-doc-link.fitted {\n",
              "  /* fitted */\n",
              "  border: var(--sklearn-color-fitted-level-1) 1pt solid;\n",
              "  color: var(--sklearn-color-fitted-level-1);\n",
              "}\n",
              "\n",
              "/* On hover */\n",
              "div.sk-estimator:hover .sk-estimator-doc-link:hover,\n",
              ".sk-estimator-doc-link:hover,\n",
              "div.sk-label-container:hover .sk-estimator-doc-link:hover,\n",
              ".sk-estimator-doc-link:hover {\n",
              "  /* unfitted */\n",
              "  background-color: var(--sklearn-color-unfitted-level-3);\n",
              "  color: var(--sklearn-color-background);\n",
              "  text-decoration: none;\n",
              "}\n",
              "\n",
              "div.sk-estimator.fitted:hover .sk-estimator-doc-link.fitted:hover,\n",
              ".sk-estimator-doc-link.fitted:hover,\n",
              "div.sk-label-container:hover .sk-estimator-doc-link.fitted:hover,\n",
              ".sk-estimator-doc-link.fitted:hover {\n",
              "  /* fitted */\n",
              "  background-color: var(--sklearn-color-fitted-level-3);\n",
              "  color: var(--sklearn-color-background);\n",
              "  text-decoration: none;\n",
              "}\n",
              "\n",
              "/* Span, style for the box shown on hovering the info icon */\n",
              ".sk-estimator-doc-link span {\n",
              "  display: none;\n",
              "  z-index: 9999;\n",
              "  position: relative;\n",
              "  font-weight: normal;\n",
              "  right: .2ex;\n",
              "  padding: .5ex;\n",
              "  margin: .5ex;\n",
              "  width: min-content;\n",
              "  min-width: 20ex;\n",
              "  max-width: 50ex;\n",
              "  color: var(--sklearn-color-text);\n",
              "  box-shadow: 2pt 2pt 4pt #999;\n",
              "  /* unfitted */\n",
              "  background: var(--sklearn-color-unfitted-level-0);\n",
              "  border: .5pt solid var(--sklearn-color-unfitted-level-3);\n",
              "}\n",
              "\n",
              ".sk-estimator-doc-link.fitted span {\n",
              "  /* fitted */\n",
              "  background: var(--sklearn-color-fitted-level-0);\n",
              "  border: var(--sklearn-color-fitted-level-3);\n",
              "}\n",
              "\n",
              ".sk-estimator-doc-link:hover span {\n",
              "  display: block;\n",
              "}\n",
              "\n",
              "/* \"?\"-specific style due to the `<a>` HTML tag */\n",
              "\n",
              "#sk-container-id-12 a.estimator_doc_link {\n",
              "  float: right;\n",
              "  font-size: 1rem;\n",
              "  line-height: 1em;\n",
              "  font-family: monospace;\n",
              "  background-color: var(--sklearn-color-background);\n",
              "  border-radius: 1rem;\n",
              "  height: 1rem;\n",
              "  width: 1rem;\n",
              "  text-decoration: none;\n",
              "  /* unfitted */\n",
              "  color: var(--sklearn-color-unfitted-level-1);\n",
              "  border: var(--sklearn-color-unfitted-level-1) 1pt solid;\n",
              "}\n",
              "\n",
              "#sk-container-id-12 a.estimator_doc_link.fitted {\n",
              "  /* fitted */\n",
              "  border: var(--sklearn-color-fitted-level-1) 1pt solid;\n",
              "  color: var(--sklearn-color-fitted-level-1);\n",
              "}\n",
              "\n",
              "/* On hover */\n",
              "#sk-container-id-12 a.estimator_doc_link:hover {\n",
              "  /* unfitted */\n",
              "  background-color: var(--sklearn-color-unfitted-level-3);\n",
              "  color: var(--sklearn-color-background);\n",
              "  text-decoration: none;\n",
              "}\n",
              "\n",
              "#sk-container-id-12 a.estimator_doc_link.fitted:hover {\n",
              "  /* fitted */\n",
              "  background-color: var(--sklearn-color-fitted-level-3);\n",
              "}\n",
              "</style><div id=\"sk-container-id-12\" class=\"sk-top-container\"><div class=\"sk-text-repr-fallback\"><pre>LinearRegression()</pre><b>In a Jupyter environment, please rerun this cell to show the HTML representation or trust the notebook. <br />On GitHub, the HTML representation is unable to render, please try loading this page with nbviewer.org.</b></div><div class=\"sk-container\" hidden><div class=\"sk-item\"><div class=\"sk-estimator fitted sk-toggleable\"><input class=\"sk-toggleable__control sk-hidden--visually\" id=\"sk-estimator-id-12\" type=\"checkbox\" checked><label for=\"sk-estimator-id-12\" class=\"sk-toggleable__label fitted sk-toggleable__label-arrow fitted\">&nbsp;&nbsp;LinearRegression<a class=\"sk-estimator-doc-link fitted\" rel=\"noreferrer\" target=\"_blank\" href=\"https://scikit-learn.org/1.5/modules/generated/sklearn.linear_model.LinearRegression.html\">?<span>Documentation for LinearRegression</span></a><span class=\"sk-estimator-doc-link fitted\">i<span>Fitted</span></span></label><div class=\"sk-toggleable__content fitted\"><pre>LinearRegression()</pre></div> </div></div></div></div>"
            ],
            "text/plain": [
              "LinearRegression()"
            ]
          },
          "execution_count": 168,
          "metadata": {},
          "output_type": "execute_result"
        }
      ],
      "source": [
        "model = LinearRegression()\n",
        "model.fit(x_train, y_train)"
      ]
    },
    {
      "cell_type": "markdown",
      "metadata": {
        "id": "2yttVRilBPfI"
      },
      "source": [
        "### 6. Получение предсказаний для обучающей и тестовой выборок"
      ]
    },
    {
      "cell_type": "code",
      "execution_count": 169,
      "metadata": {
        "id": "vX2VqH2pwOnH"
      },
      "outputs": [],
      "source": [
        "y_pred = model.predict(x_test)"
      ]
    },
    {
      "cell_type": "markdown",
      "metadata": {
        "id": "7yoAXuOOBPfJ"
      },
      "source": [
        "### 7. Проверка предсказаний\n",
        "\n",
        "1. Проверьте качество модели на обучающей и тестовой выборках с помощью MAE, MSE.\n",
        "2. Постройте диаграмму рассеяния целевой и предсказанной переменных. "
      ]
    },
    {
      "cell_type": "code",
      "execution_count": 170,
      "metadata": {},
      "outputs": [
        {
          "data": {
            "text/plain": [
              "(0.006499306410234859, 0.05333574987987544)"
            ]
          },
          "execution_count": 170,
          "metadata": {},
          "output_type": "execute_result"
        }
      ],
      "source": [
        "mse(y_test, y_pred), mae(y_test, y_pred)"
      ]
    },
    {
      "cell_type": "code",
      "execution_count": 171,
      "metadata": {
        "id": "23Pj6ErtzByI"
      },
      "outputs": [
        {
          "data": {
            "image/png": "[encoded data removed]",
            "text/plain": [
              "<Figure size 640x480 with 1 Axes>"
            ]
          },
          "metadata": {},
          "output_type": "display_data"
        }
      ],
      "source": [
        "plt.scatter(x, y, color='blue', label='Исходные данные')\n",
        "plt.plot(x_test, y_pred, color='red', linewidth=2, label='Линейная регрессия')\n",
        "plt.xlabel('X')\n",
        "plt.ylabel('y')\n",
        "plt.title('Линейная регрессия')\n",
        "plt.legend()\n",
        "plt.show()"
      ]
    },
    {
      "cell_type": "markdown",
      "metadata": {},
      "source": [
        "в силу больших разбросов данных линейная регрессия не слишком хорошо предсказывает данные"
      ]
    }
  ],
  "metadata": {
    "colab": {
      "provenance": []
    },
    "kernelspec": {
      "display_name": "Python 3",
      "language": "python",
      "name": "python3"
    },
    "language_info": {
      "codemirror_mode": {
        "name": "ipython",
        "version": 3
      },
      "file_extension": ".py",
      "mimetype": "text/x-python",
      "name": "python",
      "nbconvert_exporter": "python",
      "pygments_lexer": "ipython3",
      "version": "3.11.1"
    }
  },
  "nbformat": 4,
  "nbformat_minor": 0
}
