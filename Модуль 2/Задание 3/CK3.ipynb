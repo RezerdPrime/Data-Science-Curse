{
 "cells": [
  {
   "cell_type": "code",
   "execution_count": null,
   "metadata": {},
   "outputs": [],
   "source": [
    "import random\n",
    "\n",
    "with open('Laptop.sql', 'w') as file:\n",
    "    file.write(\n",
    "        'CREATE TABLE PC (code INTEGER, model INTEGER, speed INTEGER, ram INTEGER, '\n",
    "        'hdd NUMERIC(10,1), price NUMERIC(10,4)), ;\\n'\n",
    "    )\n",
    "    file.write('INSERT INTO PC\\n')\n",
    "    file.write('VALUES\\n')\n",
    "\n",
    "    values = []\n",
    "    for code, i in enumerate(range(1121, 1225), start=1):\n",
    "        values.append(\n",
    "            f'({code}, {i}, {random.randrange(500, 901, 100)},'\n",
    "            f' {random.randrange(32, 129, 32)}, {random.randrange(5, 21, 5)},'\n",
    "            f' \\'{random.randrange(12, 53, 4)}x\\', {random.randrange(350, 1001, 50)})'\n",
    "        )\n",
    "\n",
    "    # Чтобы в конце не стояла запятая и код корректно сработал\n",
    "    file.write(',\\n'.join(values) + ';\\n')"
   ]
  },
  {
   "cell_type": "code",
   "execution_count": 1,
   "metadata": {},
   "outputs": [],
   "source": [
    "import random\n",
    "\n",
    "with open('create_and_fill_Product.sql', 'w') as file:\n",
    "    file.write(\n",
    "        'CREATE TABLE Product (maker VARCHAR(50), model INTEGER PRIMARY KEY, type VARCHAR(20));\\n'\n",
    "    )\n",
    "    file.write('INSERT INTO Product\\n')\n",
    "    file.write('VALUES\\n')\n",
    "\n",
    "    makers = ['A', 'B', 'C', 'D', 'E']\n",
    "    types = ['PC', 'Laptop', 'Printer']\n",
    "    values = []\n",
    "\n",
    "    for model in range(1121, 1225):\n",
    "        maker = random.choice(makers)\n",
    "        product_type = random.choice(types)\n",
    "        values.append(\n",
    "            f'(\\'{maker}\\', {model}, \\'{product_type}\\')'\n",
    "        )\n",
    "\n",
    "    file.write(',\\n'.join(values) + ';\\n')"
   ]
  },
  {
   "cell_type": "code",
   "execution_count": 2,
   "metadata": {},
   "outputs": [],
   "source": [
    "import random\n",
    "\n",
    "with open('create_and_fill_Laptop.sql', 'w') as file:\n",
    "    file.write(\n",
    "        'CREATE TABLE Laptop (code INTEGER PRIMARY KEY, model INTEGER, speed INTEGER, ram INTEGER, '\n",
    "        'hd NUMERIC(10,1), screen NUMERIC(3,1), price NUMERIC(10,2));\\n'\n",
    "    )\n",
    "    file.write('INSERT INTO Laptop\\n')\n",
    "    file.write('VALUES\\n')\n",
    "\n",
    "    values = []\n",
    "    for code in range(1, 101):\n",
    "        model = random.randint(1121, 1225)  # Случайная модель из модели продукта\n",
    "        speed = random.randrange(350, 801, 50)\n",
    "        ram = random.choice([32, 64, 128])\n",
    "        hd = random.uniform(4.0, 16.0)  # Генерация десятичного числа\n",
    "        screen = random.choice([11.0, 12.0, 13.0, 15.0])  # Выбор размера экрана\n",
    "        price = round(random.uniform(500.00, 1500.00), 2)  # Генерация цены\n",
    "\n",
    "        values.append(\n",
    "            f'({code}, {model}, {speed}, {ram}, {hd:.1f}, {screen:.1f}, {price})'\n",
    "        )\n",
    "\n",
    "    file.write(',\\n'.join(values) + ';\\n')\n"
   ]
  },
  {
   "cell_type": "code",
   "execution_count": 3,
   "metadata": {},
   "outputs": [],
   "source": [
    "import random\n",
    "\n",
    "with open('create_and_fill_Printer.sql', 'w') as file:\n",
    "    file.write(\n",
    "        'CREATE TABLE Printer (code INTEGER PRIMARY KEY, model INTEGER, color CHAR(1), type VARCHAR(20), price NUMERIC(10,2));\\n'\n",
    "    )\n",
    "    file.write('INSERT INTO Printer\\n')\n",
    "    file.write('VALUES\\n')\n",
    "\n",
    "    values = []\n",
    "    printer_types = ['Laser', 'Jet', 'Matrix']\n",
    "    for code in range(1, 101):\n",
    "        model = random.randint(1000, 2000)  # Случайная модель\n",
    "        color = random.choice(['y', 'n'])  # Цветной или черно-белый\n",
    "        printer_type = random.choice(printer_types)\n",
    "        price = round(random.uniform(100.00, 700.00), 2)  # Генерация цены\n",
    "\n",
    "        values.append(\n",
    "            f'({code}, {model}, \\'{color}\\', \\'{printer_type}\\', {price})'\n",
    "        )\n",
    "\n",
    "    file.write(',\\n'.join(values) + ';\\n')\n"
   ]
  }
 ],
 "metadata": {
  "kernelspec": {
   "display_name": "Python 3",
   "language": "python",
   "name": "python3"
  },
  "language_info": {
   "codemirror_mode": {
    "name": "ipython",
    "version": 3
   },
   "file_extension": ".py",
   "mimetype": "text/x-python",
   "name": "python",
   "nbconvert_exporter": "python",
   "pygments_lexer": "ipython3",
   "version": "3.11.1"
  }
 },
 "nbformat": 4,
 "nbformat_minor": 2
}
