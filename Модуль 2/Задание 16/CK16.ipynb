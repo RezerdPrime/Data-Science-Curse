{
  "cells": [
    {
      "cell_type": "markdown",
      "metadata": {
        "id": "9eF9F2FVBpWX"
      },
      "source": [
        "# Несбалансированные выборки. Практическая работа"
      ]
    },
    {
      "cell_type": "markdown",
      "metadata": {
        "id": "MUo9HeJiBmFx"
      },
      "source": [
        "## Цель практической работы\n",
        "\n",
        "Научиться обрабатывать несбалансированные данные и обучать модели машинного обучения на таких данных."
      ]
    },
    {
      "cell_type": "markdown",
      "metadata": {
        "id": "Vzx_4gqxB6Ug"
      },
      "source": [
        "## Что входит в работу\n",
        "\n",
        "\n",
        "1. Загрузить данные и провести разведочный анализ.\n",
        "2. Разделить данные на обучающую и тестовую выборки.\n",
        "3. Подготовить данные для моделирования.\n",
        "4. Сбалансировать данные методом SMOTE и обучить модель машинного обучения.\n",
        "5. Обучить модель машинного обучения с использованием весов классов и кросс-валидации.\n",
        "6. Сравнить метрики качества четырёх моделей.\n",
        "\n",
        "\n"
      ]
    },
    {
      "cell_type": "markdown",
      "metadata": {
        "id": "mIR4D9d7B90r"
      },
      "source": [
        "## Что оценивается \n",
        "\n",
        "- Выполнены все этапы работы.\n",
        "- Не допущена утечка данных при разделении выборок и подготовке данных.\n",
        "- Данные корректным образом сбалансированы.\n",
        "- Модели не переобучены.\n"
      ]
    },
    {
      "cell_type": "markdown",
      "metadata": {
        "id": "eCZ1TMt0CBBY"
      },
      "source": [
        "## Как отправить работу на проверку\n",
        "\n",
        "Скачайте файл с заданиями в материалах, откройте его через Jupyter Notebook и выполните задания. Сохраните изменения при помощи опции Save and Checkpoint из вкладки меню File или кнопки Save and Checkpoint на панели инструментов. Отправьте через форму ниже итоговый файл Jupyter Notebook (в формате .ipynb) или ссылку на него.\n"
      ]
    },
    {
      "cell_type": "markdown",
      "metadata": {
        "id": "byYgWFXWCEUP"
      },
      "source": [
        "# Задача\n",
        "\n",
        "Пусть у нас имеется некоторый набор данных `german_credit_data.csv` о заёмщиках банка:"
      ]
    },
    {
      "cell_type": "markdown",
      "metadata": {
        "id": "A2jH3ATlCG8g"
      },
      "source": [
        "* Age — возраст заёмщика.\n",
        "* Sex — пол заёмщика.\n",
        "* Job — тип работы заёмщика.\n",
        "* Housing — тип жилья заёмщика.\n",
        "* Saving accounts — объём средств на сберегательных счетах заёмщика.\n",
        "* Checking account — объём средств на основном счёте заёмщика.\n",
        "* Credit amount — размер кредита. \n",
        "* Duration — срок кредита (в месяцах).\n",
        "* Purpose — цель кредита.\n",
        "* Risk — таргет, допустил ли заёмщик просрочку платежей по кредиту.\n",
        "\n",
        "Решите задачу классификации заёмщиков, чтобы банк умел заранее предсказывать просрочку платежей по кредиту. \n",
        "\n"
      ]
    },
    {
      "cell_type": "markdown",
      "metadata": {
        "id": "vsKhI6p8CQ5b"
      },
      "source": [
        "# Задание 1\n",
        "\n",
        "Загрузите датасет и выполните разведочный анализ данных. Сделайте выводы о найденных закономерностях, особенностях и других свойствах данных, которые вы обнаружите."
      ]
    },
    {
      "cell_type": "code",
      "execution_count": 1,
      "metadata": {
        "id": "UNvKHWNjzGxw"
      },
      "outputs": [
        {
          "data": {
            "application/vnd.microsoft.datawrangler.viewer.v0+json": {
              "columns": [
                {
                  "name": "index",
                  "rawType": "int64",
                  "type": "integer"
                },
                {
                  "name": "Age",
                  "rawType": "int64",
                  "type": "integer"
                },
                {
                  "name": "Sex",
                  "rawType": "object",
                  "type": "string"
                },
                {
                  "name": "Job",
                  "rawType": "int64",
                  "type": "integer"
                },
                {
                  "name": "Housing",
                  "rawType": "object",
                  "type": "string"
                },
                {
                  "name": "Saving accounts",
                  "rawType": "object",
                  "type": "unknown"
                },
                {
                  "name": "Checking account",
                  "rawType": "object",
                  "type": "unknown"
                },
                {
                  "name": "Credit amount",
                  "rawType": "int64",
                  "type": "integer"
                },
                {
                  "name": "Duration",
                  "rawType": "int64",
                  "type": "integer"
                },
                {
                  "name": "Purpose",
                  "rawType": "object",
                  "type": "string"
                },
                {
                  "name": "Risk",
                  "rawType": "object",
                  "type": "string"
                }
              ],
              "conversionMethod": "pd.DataFrame",
              "ref": "187dd0ef-7771-4d85-8218-969ba8706af1",
              "rows": [
                [
                  "0",
                  "67",
                  "male",
                  "2",
                  "own",
                  null,
                  "little",
                  "1169",
                  "6",
                  "radio/TV",
                  "good"
                ],
                [
                  "1",
                  "22",
                  "female",
                  "2",
                  "own",
                  "little",
                  "moderate",
                  "5951",
                  "48",
                  "radio/TV",
                  "bad"
                ],
                [
                  "2",
                  "49",
                  "male",
                  "1",
                  "own",
                  "little",
                  null,
                  "2096",
                  "12",
                  "education",
                  "good"
                ],
                [
                  "3",
                  "45",
                  "male",
                  "2",
                  "free",
                  "little",
                  "little",
                  "7882",
                  "42",
                  "furniture/equipment",
                  "good"
                ],
                [
                  "4",
                  "53",
                  "male",
                  "2",
                  "free",
                  "little",
                  "little",
                  "4870",
                  "24",
                  "car",
                  "bad"
                ]
              ],
              "shape": {
                "columns": 10,
                "rows": 5
              }
            },
            "text/html": [
              "<div>\n",
              "<style scoped>\n",
              "    .dataframe tbody tr th:only-of-type {\n",
              "        vertical-align: middle;\n",
              "    }\n",
              "\n",
              "    .dataframe tbody tr th {\n",
              "        vertical-align: top;\n",
              "    }\n",
              "\n",
              "    .dataframe thead th {\n",
              "        text-align: right;\n",
              "    }\n",
              "</style>\n",
              "<table border=\"1\" class=\"dataframe\">\n",
              "  <thead>\n",
              "    <tr style=\"text-align: right;\">\n",
              "      <th></th>\n",
              "      <th>Age</th>\n",
              "      <th>Sex</th>\n",
              "      <th>Job</th>\n",
              "      <th>Housing</th>\n",
              "      <th>Saving accounts</th>\n",
              "      <th>Checking account</th>\n",
              "      <th>Credit amount</th>\n",
              "      <th>Duration</th>\n",
              "      <th>Purpose</th>\n",
              "      <th>Risk</th>\n",
              "    </tr>\n",
              "  </thead>\n",
              "  <tbody>\n",
              "    <tr>\n",
              "      <th>0</th>\n",
              "      <td>67</td>\n",
              "      <td>male</td>\n",
              "      <td>2</td>\n",
              "      <td>own</td>\n",
              "      <td>NaN</td>\n",
              "      <td>little</td>\n",
              "      <td>1169</td>\n",
              "      <td>6</td>\n",
              "      <td>radio/TV</td>\n",
              "      <td>good</td>\n",
              "    </tr>\n",
              "    <tr>\n",
              "      <th>1</th>\n",
              "      <td>22</td>\n",
              "      <td>female</td>\n",
              "      <td>2</td>\n",
              "      <td>own</td>\n",
              "      <td>little</td>\n",
              "      <td>moderate</td>\n",
              "      <td>5951</td>\n",
              "      <td>48</td>\n",
              "      <td>radio/TV</td>\n",
              "      <td>bad</td>\n",
              "    </tr>\n",
              "    <tr>\n",
              "      <th>2</th>\n",
              "      <td>49</td>\n",
              "      <td>male</td>\n",
              "      <td>1</td>\n",
              "      <td>own</td>\n",
              "      <td>little</td>\n",
              "      <td>NaN</td>\n",
              "      <td>2096</td>\n",
              "      <td>12</td>\n",
              "      <td>education</td>\n",
              "      <td>good</td>\n",
              "    </tr>\n",
              "    <tr>\n",
              "      <th>3</th>\n",
              "      <td>45</td>\n",
              "      <td>male</td>\n",
              "      <td>2</td>\n",
              "      <td>free</td>\n",
              "      <td>little</td>\n",
              "      <td>little</td>\n",
              "      <td>7882</td>\n",
              "      <td>42</td>\n",
              "      <td>furniture/equipment</td>\n",
              "      <td>good</td>\n",
              "    </tr>\n",
              "    <tr>\n",
              "      <th>4</th>\n",
              "      <td>53</td>\n",
              "      <td>male</td>\n",
              "      <td>2</td>\n",
              "      <td>free</td>\n",
              "      <td>little</td>\n",
              "      <td>little</td>\n",
              "      <td>4870</td>\n",
              "      <td>24</td>\n",
              "      <td>car</td>\n",
              "      <td>bad</td>\n",
              "    </tr>\n",
              "  </tbody>\n",
              "</table>\n",
              "</div>"
            ],
            "text/plain": [
              "   Age     Sex  Job Housing Saving accounts Checking account  Credit amount  \\\n",
              "0   67    male    2     own             NaN           little           1169   \n",
              "1   22  female    2     own          little         moderate           5951   \n",
              "2   49    male    1     own          little              NaN           2096   \n",
              "3   45    male    2    free          little           little           7882   \n",
              "4   53    male    2    free          little           little           4870   \n",
              "\n",
              "   Duration              Purpose  Risk  \n",
              "0         6             radio/TV  good  \n",
              "1        48             radio/TV   bad  \n",
              "2        12            education  good  \n",
              "3        42  furniture/equipment  good  \n",
              "4        24                  car   bad  "
            ]
          },
          "execution_count": 1,
          "metadata": {},
          "output_type": "execute_result"
        }
      ],
      "source": [
        "import pandas as pd\n",
        "\n",
        "df = pd.read_csv('german_credit_data.csv')\n",
        "df.head()"
      ]
    },
    {
      "cell_type": "code",
      "execution_count": 2,
      "metadata": {},
      "outputs": [
        {
          "data": {
            "text/plain": [
              "Age                   0\n",
              "Sex                   0\n",
              "Job                   0\n",
              "Housing               0\n",
              "Saving accounts     183\n",
              "Checking account    394\n",
              "Credit amount         0\n",
              "Duration              0\n",
              "Purpose               0\n",
              "Risk                  0\n",
              "dtype: int64"
            ]
          },
          "execution_count": 2,
          "metadata": {},
          "output_type": "execute_result"
        }
      ],
      "source": [
        "df.isna().sum()"
      ]
    },
    {
      "cell_type": "code",
      "execution_count": 3,
      "metadata": {},
      "outputs": [
        {
          "name": "stdout",
          "output_type": "stream",
          "text": [
            "<class 'pandas.core.frame.DataFrame'>\n",
            "RangeIndex: 1000 entries, 0 to 999\n",
            "Data columns (total 10 columns):\n",
            " #   Column            Non-Null Count  Dtype \n",
            "---  ------            --------------  ----- \n",
            " 0   Age               1000 non-null   int64 \n",
            " 1   Sex               1000 non-null   object\n",
            " 2   Job               1000 non-null   int64 \n",
            " 3   Housing           1000 non-null   object\n",
            " 4   Saving accounts   817 non-null    object\n",
            " 5   Checking account  606 non-null    object\n",
            " 6   Credit amount     1000 non-null   int64 \n",
            " 7   Duration          1000 non-null   int64 \n",
            " 8   Purpose           1000 non-null   object\n",
            " 9   Risk              1000 non-null   object\n",
            "dtypes: int64(4), object(6)\n",
            "memory usage: 78.2+ KB\n"
          ]
        }
      ],
      "source": [
        "df.info()"
      ]
    },
    {
      "cell_type": "code",
      "execution_count": 4,
      "metadata": {},
      "outputs": [
        {
          "data": {
            "application/vnd.microsoft.datawrangler.viewer.v0+json": {
              "columns": [
                {
                  "name": "index",
                  "rawType": "object",
                  "type": "string"
                },
                {
                  "name": "Age",
                  "rawType": "float64",
                  "type": "float"
                },
                {
                  "name": "Job",
                  "rawType": "float64",
                  "type": "float"
                },
                {
                  "name": "Credit amount",
                  "rawType": "float64",
                  "type": "float"
                },
                {
                  "name": "Duration",
                  "rawType": "float64",
                  "type": "float"
                }
              ],
              "conversionMethod": "pd.DataFrame",
              "ref": "ffba0ff1-9a1d-4126-9042-635a819fd1bc",
              "rows": [
                [
                  "count",
                  "1000.0",
                  "1000.0",
                  "1000.0",
                  "1000.0"
                ],
                [
                  "mean",
                  "35.546",
                  "1.904",
                  "3271.258",
                  "20.903"
                ],
                [
                  "std",
                  "11.375468574317512",
                  "0.6536139619157559",
                  "2822.7368759604406",
                  "12.058814452756375"
                ],
                [
                  "min",
                  "19.0",
                  "0.0",
                  "250.0",
                  "4.0"
                ],
                [
                  "25%",
                  "27.0",
                  "2.0",
                  "1365.5",
                  "12.0"
                ],
                [
                  "50%",
                  "33.0",
                  "2.0",
                  "2319.5",
                  "18.0"
                ],
                [
                  "75%",
                  "42.0",
                  "2.0",
                  "3972.25",
                  "24.0"
                ],
                [
                  "max",
                  "75.0",
                  "3.0",
                  "18424.0",
                  "72.0"
                ]
              ],
              "shape": {
                "columns": 4,
                "rows": 8
              }
            },
            "text/html": [
              "<div>\n",
              "<style scoped>\n",
              "    .dataframe tbody tr th:only-of-type {\n",
              "        vertical-align: middle;\n",
              "    }\n",
              "\n",
              "    .dataframe tbody tr th {\n",
              "        vertical-align: top;\n",
              "    }\n",
              "\n",
              "    .dataframe thead th {\n",
              "        text-align: right;\n",
              "    }\n",
              "</style>\n",
              "<table border=\"1\" class=\"dataframe\">\n",
              "  <thead>\n",
              "    <tr style=\"text-align: right;\">\n",
              "      <th></th>\n",
              "      <th>Age</th>\n",
              "      <th>Job</th>\n",
              "      <th>Credit amount</th>\n",
              "      <th>Duration</th>\n",
              "    </tr>\n",
              "  </thead>\n",
              "  <tbody>\n",
              "    <tr>\n",
              "      <th>count</th>\n",
              "      <td>1000.000000</td>\n",
              "      <td>1000.000000</td>\n",
              "      <td>1000.000000</td>\n",
              "      <td>1000.000000</td>\n",
              "    </tr>\n",
              "    <tr>\n",
              "      <th>mean</th>\n",
              "      <td>35.546000</td>\n",
              "      <td>1.904000</td>\n",
              "      <td>3271.258000</td>\n",
              "      <td>20.903000</td>\n",
              "    </tr>\n",
              "    <tr>\n",
              "      <th>std</th>\n",
              "      <td>11.375469</td>\n",
              "      <td>0.653614</td>\n",
              "      <td>2822.736876</td>\n",
              "      <td>12.058814</td>\n",
              "    </tr>\n",
              "    <tr>\n",
              "      <th>min</th>\n",
              "      <td>19.000000</td>\n",
              "      <td>0.000000</td>\n",
              "      <td>250.000000</td>\n",
              "      <td>4.000000</td>\n",
              "    </tr>\n",
              "    <tr>\n",
              "      <th>25%</th>\n",
              "      <td>27.000000</td>\n",
              "      <td>2.000000</td>\n",
              "      <td>1365.500000</td>\n",
              "      <td>12.000000</td>\n",
              "    </tr>\n",
              "    <tr>\n",
              "      <th>50%</th>\n",
              "      <td>33.000000</td>\n",
              "      <td>2.000000</td>\n",
              "      <td>2319.500000</td>\n",
              "      <td>18.000000</td>\n",
              "    </tr>\n",
              "    <tr>\n",
              "      <th>75%</th>\n",
              "      <td>42.000000</td>\n",
              "      <td>2.000000</td>\n",
              "      <td>3972.250000</td>\n",
              "      <td>24.000000</td>\n",
              "    </tr>\n",
              "    <tr>\n",
              "      <th>max</th>\n",
              "      <td>75.000000</td>\n",
              "      <td>3.000000</td>\n",
              "      <td>18424.000000</td>\n",
              "      <td>72.000000</td>\n",
              "    </tr>\n",
              "  </tbody>\n",
              "</table>\n",
              "</div>"
            ],
            "text/plain": [
              "               Age          Job  Credit amount     Duration\n",
              "count  1000.000000  1000.000000    1000.000000  1000.000000\n",
              "mean     35.546000     1.904000    3271.258000    20.903000\n",
              "std      11.375469     0.653614    2822.736876    12.058814\n",
              "min      19.000000     0.000000     250.000000     4.000000\n",
              "25%      27.000000     2.000000    1365.500000    12.000000\n",
              "50%      33.000000     2.000000    2319.500000    18.000000\n",
              "75%      42.000000     2.000000    3972.250000    24.000000\n",
              "max      75.000000     3.000000   18424.000000    72.000000"
            ]
          },
          "execution_count": 4,
          "metadata": {},
          "output_type": "execute_result"
        }
      ],
      "source": [
        "df.describe()"
      ]
    },
    {
      "cell_type": "code",
      "execution_count": 5,
      "metadata": {},
      "outputs": [
        {
          "data": {
            "text/plain": [
              "Risk\n",
              "good    700\n",
              "bad     300\n",
              "Name: count, dtype: int64"
            ]
          },
          "execution_count": 5,
          "metadata": {},
          "output_type": "execute_result"
        }
      ],
      "source": [
        "df[['Risk']].value_counts()"
      ]
    },
    {
      "cell_type": "markdown",
      "metadata": {},
      "source": [
        "Присутствуют пропуски и дисбаланс классов"
      ]
    },
    {
      "cell_type": "code",
      "execution_count": 6,
      "metadata": {},
      "outputs": [
        {
          "name": "stderr",
          "output_type": "stream",
          "text": [
            "C:\\Users\\Lenovo\\AppData\\Local\\Temp\\ipykernel_10232\\2898683600.py:3: FutureWarning: A value is trying to be set on a copy of a DataFrame or Series through chained assignment using an inplace method.\n",
            "The behavior will change in pandas 3.0. This inplace method will never work because the intermediate object on which we are setting values always behaves as a copy.\n",
            "\n",
            "For example, when doing 'df[col].method(value, inplace=True)', try using 'df.method({col: value}, inplace=True)' or df[col] = df[col].method(value) instead, to perform the operation inplace on the original object.\n",
            "\n",
            "\n",
            "  df[column].fillna(most_frequent, inplace=True)\n"
          ]
        }
      ],
      "source": [
        "for column in ['Saving accounts', 'Checking account']:\n",
        "    most_frequent = df[column].mode()[0] \n",
        "    df[column].fillna(most_frequent, inplace=True) "
      ]
    },
    {
      "cell_type": "code",
      "execution_count": 7,
      "metadata": {},
      "outputs": [
        {
          "name": "stdout",
          "output_type": "stream",
          "text": [
            "<class 'pandas.core.frame.DataFrame'>\n",
            "RangeIndex: 1000 entries, 0 to 999\n",
            "Data columns (total 10 columns):\n",
            " #   Column            Non-Null Count  Dtype \n",
            "---  ------            --------------  ----- \n",
            " 0   Age               1000 non-null   int64 \n",
            " 1   Sex               1000 non-null   object\n",
            " 2   Job               1000 non-null   int64 \n",
            " 3   Housing           1000 non-null   object\n",
            " 4   Saving accounts   1000 non-null   object\n",
            " 5   Checking account  1000 non-null   object\n",
            " 6   Credit amount     1000 non-null   int64 \n",
            " 7   Duration          1000 non-null   int64 \n",
            " 8   Purpose           1000 non-null   object\n",
            " 9   Risk              1000 non-null   object\n",
            "dtypes: int64(4), object(6)\n",
            "memory usage: 78.2+ KB\n"
          ]
        }
      ],
      "source": [
        "df.info()"
      ]
    },
    {
      "cell_type": "markdown",
      "metadata": {
        "id": "lYEL0ZX_REkj"
      },
      "source": [
        "# Задание 2\n",
        "\n",
        "Разделите датасет на обучающую и тестовую выборки в пропорции 80:20. Разделение должно быть стратифицированным по таргету Risk.\n",
        "\n",
        "В этом и следующих заданиях используйте random_state = 1."
      ]
    },
    {
      "cell_type": "code",
      "execution_count": 8,
      "metadata": {},
      "outputs": [],
      "source": [
        "from sklearn.model_selection import train_test_split"
      ]
    },
    {
      "cell_type": "code",
      "execution_count": 9,
      "metadata": {
        "id": "PY2Ea9ETzH9f"
      },
      "outputs": [],
      "source": [
        "x = df.drop('Risk', axis=1)\n",
        "y = df['Risk']\n",
        "\n",
        "x_train, x_test, y_train, y_test = train_test_split(\n",
        "    x, y, \n",
        "    test_size=0.2, \n",
        "    random_state=1, \n",
        "    stratify=y\n",
        ")"
      ]
    },
    {
      "cell_type": "markdown",
      "metadata": {
        "id": "W9rsryWmVTm_"
      },
      "source": [
        "# Задание 3\n",
        "\n",
        "Проведите этап очистки и подготовки данных (data preparation) и подготовьте данные к моделированию."
      ]
    },
    {
      "cell_type": "code",
      "execution_count": 10,
      "metadata": {
        "id": "pRD0SVykzKDV"
      },
      "outputs": [],
      "source": [
        "x_train = pd.get_dummies(x_train, drop_first=True)\n",
        "x_test = pd.get_dummies(x_test, drop_first=True)\n",
        "\n",
        "x_train, x_test = x_train.align(x_test, join='left', axis=1, fill_value=0)"
      ]
    },
    {
      "cell_type": "code",
      "execution_count": 11,
      "metadata": {},
      "outputs": [],
      "source": [
        "from sklearn.preprocessing import StandardScaler, LabelEncoder\n",
        "\n",
        "scaler = StandardScaler()\n",
        "\n",
        "x_train= scaler.fit_transform(x_train)\n",
        "x_test = scaler.transform(x_test)\n",
        "\n",
        "le = LabelEncoder()\n",
        "\n",
        "y_train = le.fit_transform(y_train)\n",
        "y_test = le.transform(y_test)  "
      ]
    },
    {
      "cell_type": "markdown",
      "metadata": {
        "id": "Lfve80cbldFX"
      },
      "source": [
        "# Задание 4\n",
        "\n",
        "Сбалансируйте обучающую выборку методом SMOTE и обучите модель RandomForestClassifier. Подберите оптимальные гиперпараметры с помощью GridSearch. Посчитайте метрику ROC-AUC на тестовой выборке."
      ]
    },
    {
      "cell_type": "code",
      "execution_count": 12,
      "metadata": {
        "id": "yVfrSFCszMD_"
      },
      "outputs": [],
      "source": [
        "from imblearn.over_sampling import SMOTE\n",
        "from sklearn.ensemble import RandomForestClassifier\n",
        "from sklearn.model_selection import GridSearchCV\n",
        "from sklearn.metrics import roc_auc_score"
      ]
    },
    {
      "cell_type": "code",
      "execution_count": 13,
      "metadata": {},
      "outputs": [
        {
          "name": "stdout",
          "output_type": "stream",
          "text": [
            "Лучшие гиперпараметры: {'max_depth': None, 'min_samples_split': 2, 'n_estimators': 200}\n",
            "ROC-AUC на тестовой выборке: 0.6238095238095238\n"
          ]
        }
      ],
      "source": [
        "smote = SMOTE(random_state=1)\n",
        "x_train_, y_train_ = smote.fit_resample(x_train, y_train)\n",
        "\n",
        "rf = RandomForestClassifier(random_state=1)\n",
        "param_grid = {\n",
        "    'n_estimators': [100, 200],\n",
        "    'max_depth': [None, 5, 10],\n",
        "    'min_samples_split': [2, 5]\n",
        "}\n",
        "\n",
        "grid_search = GridSearchCV(rf, param_grid, scoring='roc_auc', cv=5)\n",
        "grid_search.fit(x_train_, y_train_)\n",
        "\n",
        "y_pred = grid_search.best_estimator_.predict(x_test)\n",
        "roc_auc = roc_auc_score(y_test, y_pred)\n",
        "\n",
        "print(f'Лучшие гиперпараметры: {grid_search.best_params_}')\n",
        "print(f'ROC-AUC на тестовой выборке: {roc_auc}')\n"
      ]
    },
    {
      "cell_type": "markdown",
      "metadata": {
        "id": "B1ysndUDu5YU"
      },
      "source": [
        "# Задание 5\n",
        "\n",
        "Обучите модель RandomForestClassifier с использованием весов классов. Подберите оптимальные веса и гиперпараметры с помощью GridSearch. Посчитайте метрику ROC-AUC на тестовой выборке."
      ]
    },
    {
      "cell_type": "code",
      "execution_count": 14,
      "metadata": {
        "id": "3IQbqeCvzNAp"
      },
      "outputs": [
        {
          "name": "stdout",
          "output_type": "stream",
          "text": [
            "Лучшие гиперпараметры: {'max_depth': 5, 'min_samples_split': 2, 'n_estimators': 100}\n",
            "ROC-AUC на тестовой выборке: 0.6369047619047619\n"
          ]
        }
      ],
      "source": [
        "rf_weighted = RandomForestClassifier(random_state=1, class_weight='balanced')\n",
        "grid_search_weighted = GridSearchCV(rf_weighted, param_grid, scoring='roc_auc', cv=5)\n",
        "grid_search_weighted.fit(x_train, y_train)\n",
        "\n",
        "y_pred_weighted = grid_search_weighted.best_estimator_.predict(x_test)\n",
        "roc_auc_weighted = roc_auc_score(y_test, y_pred_weighted)\n",
        "\n",
        "print(f'Лучшие гиперпараметры: {grid_search_weighted.best_params_}')\n",
        "print(f'ROC-AUC на тестовой выборке: {roc_auc_weighted}')"
      ]
    }
  ],
  "metadata": {
    "colab": {
      "provenance": []
    },
    "gpuClass": "standard",
    "kernelspec": {
      "display_name": "Python 3",
      "name": "python3"
    },
    "language_info": {
      "codemirror_mode": {
        "name": "ipython",
        "version": 3
      },
      "file_extension": ".py",
      "mimetype": "text/x-python",
      "name": "python",
      "nbconvert_exporter": "python",
      "pygments_lexer": "ipython3",
      "version": "3.11.1"
    }
  },
  "nbformat": 4,
  "nbformat_minor": 0
}
